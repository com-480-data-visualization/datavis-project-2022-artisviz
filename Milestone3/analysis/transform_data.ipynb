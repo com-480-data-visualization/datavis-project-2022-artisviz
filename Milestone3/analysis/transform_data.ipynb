{
 "cells": [
  {
   "cell_type": "code",
   "execution_count": 1,
   "metadata": {},
   "outputs": [],
   "source": [
    "import pandas as pd\n",
    "import numpy as np"
   ]
  },
  {
   "cell_type": "code",
   "execution_count": 2,
   "metadata": {},
   "outputs": [],
   "source": [
    "avg_wg = pd.read_csv('../old_data/average_wages.csv')\n",
    "emp_rate = pd.read_csv('../old_data/EMP_rate.csv')\n",
    "gdp_cap_contr = pd.read_csv('../old_data/GDPCAPCONTR.csv')\n",
    "gdp_hrs_wkd = pd.read_csv('../old_data/GDPhoursWorked.csv')\n",
    "hrs_wkd =  pd.read_csv('../old_data/hours_worked.csv')\n",
    "inc_ineq = pd.read_csv('../old_data/INCOMEINEQ.csv')\n",
    "pvty = pd.read_csv('../old_data/POVERTY.csv')\n",
    "hrs_exit_pvty = pd.read_csv('../old_data/workHours_exitPoverty.csv')"
   ]
  },
  {
   "cell_type": "code",
   "execution_count": 3,
   "metadata": {},
   "outputs": [
    {
     "data": {
      "text/plain": [
       "array([nan])"
      ]
     },
     "execution_count": 3,
     "metadata": {},
     "output_type": "execute_result"
    }
   ],
   "source": [
    "avg_wg['Flag Codes'].unique()"
   ]
  },
  {
   "cell_type": "code",
   "execution_count": 4,
   "metadata": {},
   "outputs": [],
   "source": [
    "EU = ['AUT', 'BEL', 'CZE', 'DNK', 'FIN', 'FRA', 'DEU',\n",
    "       'GRC', 'HUN', 'IRL', 'ITA', 'LUX', 'NLD', 'POL', 'PRT', 'SVK', 'ESP', 'SWE','EST', 'SVN', 'LVA', 'LTU'] #no croatia, bulgaria, romania, malta, cyprus\n",
    "\n",
    "notEU = ['AUS','CAN','KOR','MEX','NOR','CHE','GBR','USA','ISR','ISL','NZL','CHL']"
   ]
  },
  {
   "cell_type": "markdown",
   "metadata": {},
   "source": [
    "# Average Wage"
   ]
  },
  {
   "cell_type": "code",
   "execution_count": 5,
   "metadata": {},
   "outputs": [
    {
     "name": "stderr",
     "output_type": "stream",
     "text": [
      "c:\\Users\\basti\\AppData\\Local\\Programs\\Python\\Python39\\lib\\site-packages\\pandas\\core\\frame.py:4441: SettingWithCopyWarning: \n",
      "A value is trying to be set on a copy of a slice from a DataFrame\n",
      "\n",
      "See the caveats in the documentation: https://pandas.pydata.org/pandas-docs/stable/user_guide/indexing.html#returning-a-view-versus-a-copy\n",
      "  return super().rename(\n"
     ]
    }
   ],
   "source": [
    "avg_wg_reduce = avg_wg[['LOCATION','TIME','Value']]\n",
    "avg_wg_reduce.rename(columns = {'LOCATION':'country', 'TIME':'Year', 'Value':'Average Wage (USD)'}, inplace = True)\n",
    "avg_wg_EU = avg_wg_reduce[avg_wg_reduce['country'].isin(EU)]\n",
    "avg_wg_NEU = avg_wg_reduce[avg_wg_reduce['country'].isin(notEU)]\n",
    "avg_wg_EU.reset_index(drop = True, inplace = True)\n",
    "avg_wg_NEU.reset_index(drop = True, inplace = True)"
   ]
  },
  {
   "cell_type": "code",
   "execution_count": 6,
   "metadata": {},
   "outputs": [],
   "source": [
    "avg_wg_EU.to_csv('../data/avg_wg_EU.csv',na_rep = 'NaN',index=False)\n",
    "avg_wg_NEU.to_csv('../data/avg_wg_NEU.csv',na_rep = 'NaN',index=False)"
   ]
  },
  {
   "cell_type": "markdown",
   "metadata": {},
   "source": [
    "# Employment rate"
   ]
  },
  {
   "cell_type": "code",
   "execution_count": 7,
   "metadata": {},
   "outputs": [],
   "source": [
    "emp_rate_reduced = emp_rate[emp_rate['SUBJECT'] == 'TOT'] # we only select total for now\n",
    "emp_rate_reduced = emp_rate_reduced[emp_rate_reduced['MEASURE'] == 'PC_WKGPOP'] # we only select PC_WKGPOP to have a relative measure instead of an absolute values\n",
    "emp_rate_reduced = emp_rate_reduced[emp_rate_reduced['FREQUENCY'] == 'A']# we only select the yearly data, to get a simpler visualisation\n",
    "emp_rate_reduced = emp_rate_reduced[['LOCATION','TIME','Value']]\n",
    "emp_rate_reduced.rename(columns = {'LOCATION':'country', 'TIME':'Year', 'Value':'Employment Rate (no unit)'}, inplace = True)"
   ]
  },
  {
   "cell_type": "code",
   "execution_count": 8,
   "metadata": {},
   "outputs": [],
   "source": [
    "emp_rate_reduced_EU = emp_rate_reduced[emp_rate_reduced['country'].isin(EU)]\n",
    "emp_rate_reduced_NEU = emp_rate_reduced[emp_rate_reduced['country'].isin(notEU)]\n",
    "emp_rate_reduced_EU.reset_index(drop = True, inplace = True)\n",
    "emp_rate_reduced_NEU.reset_index(drop = True, inplace = True)"
   ]
  },
  {
   "cell_type": "code",
   "execution_count": 9,
   "metadata": {},
   "outputs": [],
   "source": [
    "emp_rate_reduced_EU.to_csv('../data/emp_rate_reduced_EU.csv',na_rep = 'NaN',index=False)\n",
    "emp_rate_reduced_NEU.to_csv('../data/emp_rate_reduced_NEU.csv',na_rep = 'NaN',index=False)"
   ]
  },
  {
   "cell_type": "markdown",
   "metadata": {},
   "source": [
    "# GDP per hours worked"
   ]
  },
  {
   "cell_type": "code",
   "execution_count": 10,
   "metadata": {},
   "outputs": [],
   "source": [
    "gdp_hrs_wkd_reduced = gdp_hrs_wkd[gdp_hrs_wkd['MEASURE']== 'USD']\n",
    "gdp_hrs_wkd_reduced = gdp_hrs_wkd_reduced[['LOCATION','TIME', 'Value']]\n",
    "gdp_hrs_wkd_reduced.rename(columns = {'LOCATION':'country', 'TIME':'Year', 'Value':'GDP per hours worked (USD/hour)'}, inplace = True)"
   ]
  },
  {
   "cell_type": "code",
   "execution_count": 11,
   "metadata": {},
   "outputs": [],
   "source": [
    "gdp_hrs_wkd_reduced_EU = gdp_hrs_wkd_reduced[gdp_hrs_wkd_reduced['country'].isin(EU)]\n",
    "gdp_hrs_wkd_reduced_NEU = gdp_hrs_wkd_reduced[gdp_hrs_wkd_reduced['country'].isin(notEU)]\n",
    "gdp_hrs_wkd_reduced_EU.reset_index(drop = True, inplace = True)\n",
    "gdp_hrs_wkd_reduced_NEU.reset_index(drop = True, inplace = True)"
   ]
  },
  {
   "cell_type": "code",
   "execution_count": 12,
   "metadata": {},
   "outputs": [],
   "source": [
    "gdp_hrs_wkd_reduced_EU.to_csv('../data/gdp_hrs_wkd_reduced_EU.csv',na_rep = 'NaN',index=False)\n",
    "gdp_hrs_wkd_reduced_NEU.to_csv('../data/gdp_hrs_wkd_reduced_NEU.csv',na_rep = 'NaN',index=False)"
   ]
  },
  {
   "cell_type": "markdown",
   "metadata": {},
   "source": [
    "# Hours worked"
   ]
  },
  {
   "cell_type": "code",
   "execution_count": 13,
   "metadata": {},
   "outputs": [],
   "source": [
    "hrs_wkd_reduced = hrs_wkd[['LOCATION','TIME', 'Value']]\n",
    "hrs_wkd_reduced.rename(columns = {'LOCATION':'country', 'TIME':'Year', 'Value':'Hours worked per year (hours/year)'}, inplace = True)\n"
   ]
  },
  {
   "cell_type": "code",
   "execution_count": 14,
   "metadata": {},
   "outputs": [],
   "source": [
    "hrs_wkd_reduced_EU = hrs_wkd_reduced[hrs_wkd_reduced['country'].isin(EU)]\n",
    "hrs_wkd_reduced_NEU = hrs_wkd_reduced[hrs_wkd_reduced['country'].isin(notEU)]\n",
    "hrs_wkd_reduced_EU.reset_index(drop = True, inplace = True)\n",
    "hrs_wkd_reduced_NEU.reset_index(drop = True, inplace = True)"
   ]
  },
  {
   "cell_type": "code",
   "execution_count": 15,
   "metadata": {},
   "outputs": [],
   "source": [
    "hrs_wkd_reduced_EU.to_csv('../data/hrs_wkd_reduced_EU.csv',na_rep = 'NaN',index=False)\n",
    "hrs_wkd_reduced_NEU.to_csv('../data/hrs_wkd_reduced_NEU.csv',na_rep = 'NaN',index=False)"
   ]
  },
  {
   "cell_type": "markdown",
   "metadata": {},
   "source": [
    "# Income Inequality"
   ]
  },
  {
   "cell_type": "code",
   "execution_count": 16,
   "metadata": {},
   "outputs": [],
   "source": [
    "inc_ineq_reduced = inc_ineq[inc_ineq['SUBJECT']=='GINI']\n",
    "inc_ineq_reduced = inc_ineq_reduced[['LOCATION','TIME', 'Value']]\n",
    "inc_ineq_reduced.rename(columns = {'LOCATION':'country', 'TIME':'Year', 'Value':'Income Inequality (no unit)'}, inplace = True)"
   ]
  },
  {
   "cell_type": "code",
   "execution_count": 17,
   "metadata": {},
   "outputs": [],
   "source": [
    "inc_ineq_reduced_EU = inc_ineq_reduced[inc_ineq_reduced['country'].isin(EU)]\n",
    "inc_ineq_reduced_NEU = inc_ineq_reduced[inc_ineq_reduced['country'].isin(notEU)]\n",
    "inc_ineq_reduced_EU.reset_index(drop = True, inplace = True)\n",
    "inc_ineq_reduced_NEU.reset_index(drop = True, inplace = True)"
   ]
  },
  {
   "cell_type": "code",
   "execution_count": 18,
   "metadata": {},
   "outputs": [],
   "source": [
    "inc_ineq_reduced_EU.to_csv('../data/inc_ineq_reduced_EU.csv',na_rep = 'NaN',index=False)\n",
    "inc_ineq_reduced_NEU.to_csv('../data/inc_ineq_reduced_NEU.csv',na_rep = 'NaN',index=False)"
   ]
  },
  {
   "cell_type": "markdown",
   "metadata": {},
   "source": [
    "# Poverty"
   ]
  },
  {
   "cell_type": "code",
   "execution_count": 19,
   "metadata": {},
   "outputs": [
    {
     "data": {
      "text/plain": [
       "array(['0_17', 'TOT', '18_65', '66MORE'], dtype=object)"
      ]
     },
     "execution_count": 19,
     "metadata": {},
     "output_type": "execute_result"
    }
   ],
   "source": [
    "pvty['INDICATOR'].unique()\n",
    "pvty['SUBJECT'].unique()\n"
   ]
  },
  {
   "cell_type": "code",
   "execution_count": 20,
   "metadata": {},
   "outputs": [],
   "source": [
    "pvty_reduced = pvty[['LOCATION','SUBJECT','TIME','Value']]\n",
    "pvty_reduced.rename(columns = {'LOCATION':'country', 'TIME':'Year', 'Value':'Poverty rate (no unit)'}, inplace = True)\n",
    "pvty_reduced_017 = pvty_reduced[pvty_reduced['SUBJECT'] == '0_17']\n",
    "pvty_reduced_TOT = pvty_reduced[pvty_reduced['SUBJECT'] == 'TOT']\n",
    "pvty_reduced_18_65 = pvty_reduced[pvty_reduced['SUBJECT'] == '18_65']\n",
    "pvty_reduced_66MORE = pvty_reduced[pvty_reduced['SUBJECT'] == '66MORE']\n",
    "\n",
    "pvty_reduced_017 = pvty_reduced_017[['country','Year','Poverty rate (no unit)']]\n",
    "pvty_reduced_TOT = pvty_reduced_TOT[['country','Year','Poverty rate (no unit)']]\n",
    "pvty_reduced_18_65 = pvty_reduced_18_65[['country','Year','Poverty rate (no unit)']]\n",
    "pvty_reduced_66MORE = pvty_reduced_66MORE[['country','Year','Poverty rate (no unit)']]"
   ]
  },
  {
   "cell_type": "code",
   "execution_count": 21,
   "metadata": {},
   "outputs": [],
   "source": [
    "pvty_reduced_017_EU = pvty_reduced_017[pvty_reduced_017['country'].isin(EU)]\n",
    "pvty_reduced_TOT_EU = pvty_reduced_TOT[pvty_reduced_TOT['country'].isin(EU)]\n",
    "pvty_reduced_18_65_EU = pvty_reduced_18_65[pvty_reduced_18_65['country'].isin(EU)]\n",
    "pvty_reduced_66MORE_EU = pvty_reduced_66MORE[pvty_reduced_66MORE['country'].isin(EU)]\n",
    "pvty_reduced_017_NEU = pvty_reduced_017[pvty_reduced_017['country'].isin(notEU)]\n",
    "pvty_reduced_TOT_NEU = pvty_reduced_TOT[pvty_reduced_TOT['country'].isin(notEU)]\n",
    "pvty_reduced_18_65_NEU = pvty_reduced_18_65[pvty_reduced_18_65['country'].isin(notEU)]\n",
    "pvty_reduced_66MORE_NEU = pvty_reduced_66MORE[pvty_reduced_66MORE['country'].isin(notEU)]\n"
   ]
  },
  {
   "cell_type": "code",
   "execution_count": 22,
   "metadata": {},
   "outputs": [],
   "source": [
    "pvty_reduced_017_EU.to_csv('../data/pvty_reduced_017_EU.csv', na_rep = 'NaN', index=False)\n",
    "pvty_reduced_TOT_EU.to_csv('../data/pvty_reduced_TOT_EU.csv', na_rep = 'NaN', index=False)\n",
    "pvty_reduced_18_65_EU.to_csv('../data/pvty_reduced_18_65_EU.csv', na_rep = 'NaN', index=False)\n",
    "pvty_reduced_66MORE_EU.to_csv('../data/pvty_reduced_66MORE_EU.csv', na_rep = 'NaN', index=False)\n",
    "pvty_reduced_017_NEU.to_csv('../data/pvty_reduced_017_NEU.csv', na_rep = 'NaN', index=False)\n",
    "pvty_reduced_TOT_NEU.to_csv('../data/pvty_reduced_TOT_NEU.csv', na_rep = 'NaN', index=False)\n",
    "pvty_reduced_18_65_NEU.to_csv('../data/pvty_reduced_18_65_NEU.csv', na_rep = 'NaN', index=False)\n",
    "pvty_reduced_66MORE_NEU.to_csv('../data/pvty_reduced_66MORE_NEU.csv', na_rep = 'NaN', index=False)"
   ]
  },
  {
   "cell_type": "markdown",
   "metadata": {},
   "source": [
    "# Hours to exit poverty"
   ]
  },
  {
   "cell_type": "code",
   "execution_count": 23,
   "metadata": {},
   "outputs": [
    {
     "data": {
      "text/plain": [
       "array(['HR_67PC_AVEWAGE', 'HR_AVEWAGE', 'HR_MINWAGE'], dtype=object)"
      ]
     },
     "execution_count": 23,
     "metadata": {},
     "output_type": "execute_result"
    }
   ],
   "source": [
    "hrs_exit_pvty['INDICATOR'].unique()\n",
    "hrs_exit_pvty['SUBJECT'].unique() # 'SNGL2CHLD', 'SNGLNOCHLD', 'UNEMP_COUPL2CHLD', 'UNEMP_COUPLNOCHLD'\n",
    "hrs_exit_pvty['MEASURE'].unique() # 'HR_67PC_AVEWAGE', 'HR_AVEWAGE', 'HR_MINWAGE'\n"
   ]
  },
  {
   "cell_type": "code",
   "execution_count": 24,
   "metadata": {},
   "outputs": [
    {
     "data": {
      "text/html": [
       "<div>\n",
       "<style scoped>\n",
       "    .dataframe tbody tr th:only-of-type {\n",
       "        vertical-align: middle;\n",
       "    }\n",
       "\n",
       "    .dataframe tbody tr th {\n",
       "        vertical-align: top;\n",
       "    }\n",
       "\n",
       "    .dataframe thead th {\n",
       "        text-align: right;\n",
       "    }\n",
       "</style>\n",
       "<table border=\"1\" class=\"dataframe\">\n",
       "  <thead>\n",
       "    <tr style=\"text-align: right;\">\n",
       "      <th></th>\n",
       "      <th>LOCATION</th>\n",
       "      <th>INDICATOR</th>\n",
       "      <th>SUBJECT</th>\n",
       "      <th>MEASURE</th>\n",
       "      <th>FREQUENCY</th>\n",
       "      <th>TIME</th>\n",
       "      <th>Value</th>\n",
       "      <th>Flag Codes</th>\n",
       "    </tr>\n",
       "  </thead>\n",
       "  <tbody>\n",
       "    <tr>\n",
       "      <th>0</th>\n",
       "      <td>AUS</td>\n",
       "      <td>WORKEXPOV</td>\n",
       "      <td>SNGL2CHLD</td>\n",
       "      <td>HR_67PC_AVEWAGE</td>\n",
       "      <td>A</td>\n",
       "      <td>2001</td>\n",
       "      <td>1</td>\n",
       "      <td>NaN</td>\n",
       "    </tr>\n",
       "    <tr>\n",
       "      <th>1</th>\n",
       "      <td>AUS</td>\n",
       "      <td>WORKEXPOV</td>\n",
       "      <td>SNGL2CHLD</td>\n",
       "      <td>HR_67PC_AVEWAGE</td>\n",
       "      <td>A</td>\n",
       "      <td>2002</td>\n",
       "      <td>2</td>\n",
       "      <td>NaN</td>\n",
       "    </tr>\n",
       "    <tr>\n",
       "      <th>2</th>\n",
       "      <td>AUS</td>\n",
       "      <td>WORKEXPOV</td>\n",
       "      <td>SNGL2CHLD</td>\n",
       "      <td>HR_67PC_AVEWAGE</td>\n",
       "      <td>A</td>\n",
       "      <td>2003</td>\n",
       "      <td>2</td>\n",
       "      <td>NaN</td>\n",
       "    </tr>\n",
       "    <tr>\n",
       "      <th>3</th>\n",
       "      <td>AUS</td>\n",
       "      <td>WORKEXPOV</td>\n",
       "      <td>SNGL2CHLD</td>\n",
       "      <td>HR_67PC_AVEWAGE</td>\n",
       "      <td>A</td>\n",
       "      <td>2004</td>\n",
       "      <td>1</td>\n",
       "      <td>NaN</td>\n",
       "    </tr>\n",
       "    <tr>\n",
       "      <th>4</th>\n",
       "      <td>AUS</td>\n",
       "      <td>WORKEXPOV</td>\n",
       "      <td>SNGL2CHLD</td>\n",
       "      <td>HR_67PC_AVEWAGE</td>\n",
       "      <td>A</td>\n",
       "      <td>2005</td>\n",
       "      <td>4</td>\n",
       "      <td>NaN</td>\n",
       "    </tr>\n",
       "    <tr>\n",
       "      <th>...</th>\n",
       "      <td>...</td>\n",
       "      <td>...</td>\n",
       "      <td>...</td>\n",
       "      <td>...</td>\n",
       "      <td>...</td>\n",
       "      <td>...</td>\n",
       "      <td>...</td>\n",
       "      <td>...</td>\n",
       "    </tr>\n",
       "    <tr>\n",
       "      <th>8691</th>\n",
       "      <td>RUS</td>\n",
       "      <td>WORKEXPOV</td>\n",
       "      <td>UNEMP_COUPLNOCHLD</td>\n",
       "      <td>HR_AVEWAGE</td>\n",
       "      <td>A</td>\n",
       "      <td>2018</td>\n",
       "      <td>27</td>\n",
       "      <td>NaN</td>\n",
       "    </tr>\n",
       "    <tr>\n",
       "      <th>8692</th>\n",
       "      <td>RUS</td>\n",
       "      <td>WORKEXPOV</td>\n",
       "      <td>SNGL2CHLD</td>\n",
       "      <td>HR_MINWAGE</td>\n",
       "      <td>A</td>\n",
       "      <td>2018</td>\n",
       "      <td>67</td>\n",
       "      <td>NaN</td>\n",
       "    </tr>\n",
       "    <tr>\n",
       "      <th>8693</th>\n",
       "      <td>RUS</td>\n",
       "      <td>WORKEXPOV</td>\n",
       "      <td>SNGLNOCHLD</td>\n",
       "      <td>HR_MINWAGE</td>\n",
       "      <td>A</td>\n",
       "      <td>2018</td>\n",
       "      <td>80</td>\n",
       "      <td>NaN</td>\n",
       "    </tr>\n",
       "    <tr>\n",
       "      <th>8694</th>\n",
       "      <td>RUS</td>\n",
       "      <td>WORKEXPOV</td>\n",
       "      <td>UNEMP_COUPL2CHLD</td>\n",
       "      <td>HR_MINWAGE</td>\n",
       "      <td>A</td>\n",
       "      <td>2018</td>\n",
       "      <td>80</td>\n",
       "      <td>NaN</td>\n",
       "    </tr>\n",
       "    <tr>\n",
       "      <th>8695</th>\n",
       "      <td>RUS</td>\n",
       "      <td>WORKEXPOV</td>\n",
       "      <td>UNEMP_COUPLNOCHLD</td>\n",
       "      <td>HR_MINWAGE</td>\n",
       "      <td>A</td>\n",
       "      <td>2018</td>\n",
       "      <td>80</td>\n",
       "      <td>NaN</td>\n",
       "    </tr>\n",
       "  </tbody>\n",
       "</table>\n",
       "<p>8696 rows × 8 columns</p>\n",
       "</div>"
      ],
      "text/plain": [
       "     LOCATION  INDICATOR            SUBJECT          MEASURE FREQUENCY  TIME  \\\n",
       "0         AUS  WORKEXPOV          SNGL2CHLD  HR_67PC_AVEWAGE         A  2001   \n",
       "1         AUS  WORKEXPOV          SNGL2CHLD  HR_67PC_AVEWAGE         A  2002   \n",
       "2         AUS  WORKEXPOV          SNGL2CHLD  HR_67PC_AVEWAGE         A  2003   \n",
       "3         AUS  WORKEXPOV          SNGL2CHLD  HR_67PC_AVEWAGE         A  2004   \n",
       "4         AUS  WORKEXPOV          SNGL2CHLD  HR_67PC_AVEWAGE         A  2005   \n",
       "...       ...        ...                ...              ...       ...   ...   \n",
       "8691      RUS  WORKEXPOV  UNEMP_COUPLNOCHLD       HR_AVEWAGE         A  2018   \n",
       "8692      RUS  WORKEXPOV          SNGL2CHLD       HR_MINWAGE         A  2018   \n",
       "8693      RUS  WORKEXPOV         SNGLNOCHLD       HR_MINWAGE         A  2018   \n",
       "8694      RUS  WORKEXPOV   UNEMP_COUPL2CHLD       HR_MINWAGE         A  2018   \n",
       "8695      RUS  WORKEXPOV  UNEMP_COUPLNOCHLD       HR_MINWAGE         A  2018   \n",
       "\n",
       "      Value  Flag Codes  \n",
       "0         1         NaN  \n",
       "1         2         NaN  \n",
       "2         2         NaN  \n",
       "3         1         NaN  \n",
       "4         4         NaN  \n",
       "...     ...         ...  \n",
       "8691     27         NaN  \n",
       "8692     67         NaN  \n",
       "8693     80         NaN  \n",
       "8694     80         NaN  \n",
       "8695     80         NaN  \n",
       "\n",
       "[8696 rows x 8 columns]"
      ]
     },
     "execution_count": 24,
     "metadata": {},
     "output_type": "execute_result"
    }
   ],
   "source": [
    "hrs_exit_pvty"
   ]
  }
 ],
 "metadata": {
  "interpreter": {
   "hash": "48c0ee024c6cc2421e377eb4076cadf4ce6eb7a4584917e3645e162e32894617"
  },
  "kernelspec": {
   "display_name": "Python 3",
   "language": "python",
   "name": "python3"
  },
  "language_info": {
   "codemirror_mode": {
    "name": "ipython",
    "version": 3
   },
   "file_extension": ".py",
   "mimetype": "text/x-python",
   "name": "python",
   "nbconvert_exporter": "python",
   "pygments_lexer": "ipython3",
   "version": "3.9.2"
  }
 },
 "nbformat": 4,
 "nbformat_minor": 4
}
