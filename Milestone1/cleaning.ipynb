{
 "cells": [
  {
   "cell_type": "markdown",
   "metadata": {},
   "source": [
    "## Data cleaning\n",
    "\n",
    "Datasets\n",
    "* [Average wages](https://data.oecd.org/earnwage/average-wages.htm)\n",
    "* [Hours worked](https://data.oecd.org/emp/hours-worked.htm)\n",
    "* [Working hours needed to exit poverty](https://data.oecd.org/benwage/working-hours-needed-to-exit-poverty.htm)\n",
    "* [GDP per hour worked](https://data.oecd.org/lprdty/gdp-per-hour-worked.htm)\n",
    "* [Labour productivity and utilisation](https://data.oecd.org/lprdty/labour-productivity-and-utilisation.htm#indicator-chart)\n",
    "* [ Employee compensation by activity](https://data.oecd.org/earnwage/employee-compensation-by-activity.htm#indicator-chart)\n",
    "* [# Employment rate](https://data.oecd.org/emp/employment-rate.htm)\n",
    "* [# Inégalité de revenu](https://data.oecd.org/fr/inequality/inegalite-de-revenu.htm)\n",
    "* [# Poverty rate](https://data.oecd.org/inequality/poverty-rate.htm)"
   ]
  },
  {
   "cell_type": "code",
   "execution_count": 33,
   "metadata": {},
   "outputs": [],
   "source": [
    "import pandas as pd\n",
    "import numpy as np"
   ]
  },
  {
   "cell_type": "code",
   "execution_count": 34,
   "metadata": {},
   "outputs": [],
   "source": [
    "avg_wg = pd.read_csv('average_wages.csv')\n",
    "hrs_wk = pd.read_csv('hours_worked.csv')\n",
    "hrs_pvty = pd.read_csv('workHours_exitPoverty.csv')\n",
    "GDPhrs_wk = pd.read_csv('GDPhoursWorked.csv')\n",
    "GDPcapContr = pd.read_csv('GDPCAPCONTR.csv')\n",
    "wg_actvy = pd.read_csv('COMPEMPLOYEEACTY.csv')\n",
    "income_ineq = pd.read_csv('INCOMEINEQ.csv')\n",
    "poverty = pd.read_csv('POVERTY.csv')\n",
    "emp_rate = pd.read_csv('EMP_rate.csv')\n",
    "data = [avg_wg,hrs_wk,hrs_pvty,GDPhrs_wk, GDPcapContr,wg_actvy,income_ineq,poverty, emp_rate]\n",
    "\n",
    "# for element in data:\n",
    "#     print(element.head(1))"
   ]
  },
  {
   "cell_type": "markdown",
   "metadata": {},
   "source": [
    "Information about the data's Flag codes : \n",
    "Break in series\n",
    "* e = Estimated value\n",
    "* f = Forecast value\n",
    "* x = Not applicable\n",
    "* p = Provisional data\n",
    "* s = Strike\n",
    "* \\- = Nil"
   ]
  },
  {
   "cell_type": "code",
   "execution_count": 35,
   "metadata": {},
   "outputs": [
    {
     "name": "stdout",
     "output_type": "stream",
     "text": [
      "The number of unique countries ['AUS' 'AUT' 'BEL' 'BGR' 'BRA' 'CAN' 'CHE' 'CHL' 'CHN' 'COL' 'CRI' 'CYP'\n",
      " 'CZE' 'DEU' 'DNK' 'EA19' 'ESP' 'EST' 'EU27' 'EU27_2020' 'EU28' 'FIN'\n",
      " 'FRA' 'G-7' 'GBR' 'GRC' 'HRV' 'HUN' 'IDN' 'IND' 'IRL' 'ISL' 'ISR' 'ITA'\n",
      " 'JPN' 'KOR' 'LTU' 'LUX' 'LVA' 'MEX' 'MLT' 'NLD' 'NOR' 'NZL' 'OECD' 'POL'\n",
      " 'PRT' 'ROU' 'RUS' 'SVK' 'SVN' 'SWE' 'TUR' 'USA' 'ZAF']\n"
     ]
    }
   ],
   "source": [
    "#liste des pays par dataset: si un pays est mentionné 3 fois dans la colonne 'LOCATION', ça le réunit en une seule fois\n",
    "countries_avg_wg = avg_wg['LOCATION'].unique()\n",
    "countries_hrs_wk = hrs_wk['LOCATION'].unique()\n",
    "countries_hrs_pvty = hrs_pvty['LOCATION'].unique()\n",
    "countries_GDPhrs_wk = GDPhrs_wk['LOCATION'].unique()\n",
    "countries_GDPcapContr = GDPcapContr['LOCATION'].unique()\n",
    "countries_income_ineq = income_ineq['LOCATION'].unique()\n",
    "countries_poverty = poverty['LOCATION'].unique()\n",
    "countries_emp_rate = emp_rate['LOCATION'].unique()\n",
    "\n",
    "#réunions de tous les pays de tous les datasets\n",
    "countries = np.concatenate((countries_avg_wg,countries_hrs_wk,countries_hrs_pvty,countries_GDPhrs_wk,countries_GDPcapContr,countries_income_ineq,countries_poverty,countries_emp_rate), axis=0)\n",
    "# [countries_avg_wg,countries_hrs_wk,countries_hrs_pvty,countries_GDPhrs_wk,countries_GDPcapContr,countries_income_ineq,countries_poverty,countries_emp_rate]\n",
    "EU = ['FRA', ]\n",
    "#.unique() sur la liste des pays dans tous les datasets confondus\n",
    "print('The number of unique countries', np.unique(countries))"
   ]
  },
  {
   "cell_type": "code",
   "execution_count": 36,
   "metadata": {},
   "outputs": [
    {
     "name": "stdout",
     "output_type": "stream",
     "text": [
      "36\n",
      "46\n",
      "43\n",
      "48\n",
      "48\n",
      "44\n",
      "44\n",
      "46\n"
     ]
    }
   ],
   "source": [
    "#nombre de pays par dataset\n",
    "check_countries = [countries_avg_wg,countries_hrs_wk,countries_hrs_pvty,countries_GDPhrs_wk,countries_GDPcapContr,countries_income_ineq,countries_poverty,countries_emp_rate]\n",
    "for element in check_countries:\n",
    "    print(len(element))"
   ]
  },
  {
   "cell_type": "markdown",
   "metadata": {},
   "source": [
    "Oupsi, pas du tout les mêmes pays par dataset et pas le même nombre\n",
    "Check if the EU countries are in all the data sets"
   ]
  },
  {
   "cell_type": "code",
   "execution_count": 37,
   "metadata": {},
   "outputs": [
    {
     "name": "stdout",
     "output_type": "stream",
     "text": [
      "['AUS' 'AUT' 'BEL' 'CAN' 'CZE' 'DNK' 'FIN' 'FRA' 'DEU' 'GRC' 'HUN' 'IRL'\n",
      " 'ITA' 'JPN' 'KOR' 'LUX' 'MEX' 'NLD' 'NOR' 'POL' 'PRT' 'SVK' 'ESP' 'SWE'\n",
      " 'CHE' 'GBR' 'USA' 'EST' 'ISR' 'SVN' 'OECD' 'ISL' 'NZL' 'CHL' 'LVA' 'LTU']\n",
      "[ True  True  True  True  True  True  True  True  True  True  True  True\n",
      "  True  True  True  True  True  True  True  True  True  True]\n",
      "[ True  True  True  True  True  True  True  True  True  True  True  True]\n",
      "[ True  True  True  True  True  True  True  True  True  True  True  True\n",
      "  True  True  True  True  True  True  True  True  True  True]\n",
      "[ True  True  True  True  True  True  True  True  True  True  True  True]\n",
      "[ True  True  True  True  True  True  True  True  True  True  True  True\n",
      "  True  True  True  True  True  True  True  True  True  True]\n",
      "[ True  True  True False  True  True  True  True  True  True  True  True]\n",
      "[ True  True  True  True  True  True  True  True  True  True  True  True\n",
      "  True  True  True  True  True  True  True  True  True  True]\n",
      "[ True  True  True  True  True  True  True  True  True  True  True  True]\n",
      "[ True  True  True  True  True  True  True  True  True  True  True  True\n",
      "  True  True  True  True  True  True  True  True  True  True]\n",
      "[ True  True  True  True  True  True  True  True  True  True  True  True]\n",
      "[ True  True  True  True  True  True  True  True  True  True  True  True\n",
      "  True  True  True  True  True  True  True  True  True  True]\n",
      "[ True  True  True  True  True  True  True  True  True  True  True  True]\n",
      "[ True  True  True  True  True  True  True  True  True  True  True  True\n",
      "  True  True  True  True  True  True  True  True  True  True]\n",
      "[ True  True  True  True  True  True  True  True  True  True  True  True]\n",
      "[ True  True  True  True  True  True  True  True  True  True  True  True\n",
      "  True  True  True  True  True  True  True  True  True  True]\n",
      "[ True  True  True  True  True  True  True  True  True  True  True  True]\n"
     ]
    }
   ],
   "source": [
    "print(countries_avg_wg)\n",
    "#we select the countries that appear in the EU and the other countries that appear in the dataset with the less number of countires\n",
    "EU = ['AUT', 'BEL', 'CZE', 'DNK', 'FIN', 'FRA', 'DEU',\n",
    "       'GRC', 'HUN', 'IRL', 'ITA', 'LUX', 'NLD', 'POL', 'PRT', 'SVK', 'ESP', 'SWE','EST', 'SVN', 'LVA', 'LTU'] #no croatia, bulgaria, romania, malta, cyprus\n",
    "\n",
    "notEU = ['AUS','CAN','KOR','MEX','NOR','CHE','GBR','USA','ISR','ISL','NZL','CHL']\n",
    "\n",
    "for element in check_countries:\n",
    "    print(np.isin(EU, element))\n",
    "    print(np.isin(notEU, element))"
   ]
  },
  {
   "cell_type": "markdown",
   "metadata": {},
   "source": [
    "So MEX doesn't appear in countries_GDPhrs_wk"
   ]
  },
  {
   "cell_type": "markdown",
   "metadata": {},
   "source": [
    "### Quelles sont les valeurs utiles pour chaque dataset ?"
   ]
  },
  {
   "cell_type": "markdown",
   "metadata": {},
   "source": [
    "#### Attention à \n",
    "- Prendre l'année la plus avancée pour chaque donnée de chaque pays (1990,1991,1992...) -> **FAIT**\n",
    "- Vérifier que les années sont toutes comparables (après 2010 idéalement ?) -> **FAIT**\n",
    "- Vérifier que Subject est bien à \"TOT\" pour tous les dataset (population totale) -> **fait mais c'est pas le cas du coup. Vérifier ce que signifient les autres noms de codes pour la population**\n",
    "- Vérifier ce que ça veut dire \"flag codes\" ?\n",
    "- Renommer la colonne Value de chaque dataset par la donnée observée (par ex avg_wg pour average wages) sinon on va rien comprendre quand on va merge\n",
    "- merge les trucs : pd.merge(df1,df2,left_index=True ou False, right_on = 'nom_de_la_colonne')**\n",
    "- enlever le pays G7 !\n"
   ]
  },
  {
   "cell_type": "code",
   "execution_count": 38,
   "metadata": {},
   "outputs": [
    {
     "name": "stdout",
     "output_type": "stream",
     "text": [
      "Hours Worked 2020\n",
      "\n",
      "GDP per hour 2020\n",
      "\n",
      "Average wages 2020\n",
      "\n",
      "Hours poverty 2018\n",
      "\n",
      "GDP cap contr 2020\n",
      "\n",
      "Wages par activty 2020\n",
      "\n",
      "Income inequalities 2019\n",
      "\n",
      "Poverty rate 2019\n",
      "\n",
      "Emp rate 2021-12\n",
      "\n"
     ]
    }
   ],
   "source": [
    "print('Hours Worked', hrs_wk['TIME'].iloc[-1])\n",
    "print('')\n",
    "print('GDP per hour', GDPhrs_wk['TIME'].iloc[-1])\n",
    "print('')\n",
    "print('Average wages', avg_wg['TIME'].iloc[-1])\n",
    "print('')\n",
    "print('Hours poverty', hrs_pvty['TIME'].iloc[-1])\n",
    "print('')\n",
    "print('GDP cap contr', GDPcapContr['TIME'].iloc[-1])\n",
    "print('')\n",
    "print('Wages par activty', wg_actvy['TIME'].iloc[-1])\n",
    "print('')\n",
    "print('Income inequalities', income_ineq['TIME'].iloc[-1])\n",
    "print('')\n",
    "print('Poverty rate', poverty['TIME'].iloc[-1])\n",
    "print('')\n",
    "print('Emp rate', emp_rate['TIME'].iloc[-1])\n",
    "print('')"
   ]
  },
  {
   "cell_type": "code",
   "execution_count": 39,
   "metadata": {},
   "outputs": [
    {
     "name": "stdout",
     "output_type": "stream",
     "text": [
      "Hours Worked 1985\n",
      "\n",
      "GDP per hour 1970\n",
      "\n",
      "Average wages 1990\n",
      "\n",
      "Hours poverty 2001\n",
      "\n",
      "GDP cap contr 1971\n",
      "\n",
      "Wages par activty 1995\n",
      "\n",
      "Income inequalities 2012\n",
      "\n",
      "Poverty rate 2012\n",
      "\n",
      "Emp rate 1965\n",
      "\n"
     ]
    }
   ],
   "source": [
    "print('Hours Worked', hrs_wk['TIME'].iloc[0])\n",
    "print('')\n",
    "print('GDP per hour', GDPhrs_wk['TIME'].iloc[0])\n",
    "print('')\n",
    "print('Average wages', avg_wg['TIME'].iloc[0])\n",
    "print('')\n",
    "print('Hours poverty', hrs_pvty['TIME'].iloc[0])\n",
    "print('')\n",
    "print('GDP cap contr', GDPcapContr['TIME'].iloc[0])\n",
    "print('')\n",
    "print('Wages par activty', wg_actvy['TIME'].iloc[0])\n",
    "print('')\n",
    "print('Income inequalities', income_ineq['TIME'].iloc[0])\n",
    "print('')\n",
    "print('Poverty rate', poverty['TIME'].iloc[0])\n",
    "print('')\n",
    "print('Emp rate', emp_rate['TIME'].iloc[0])\n",
    "print('')"
   ]
  },
  {
   "cell_type": "markdown",
   "metadata": {},
   "source": [
    "Go prendre jusqu'à 2018 puisque la date la plus ancienne est 2018, on peut pas aller plus loin si on veut prendre en compte les heures à travailler pour sortie de la pauvreté"
   ]
  },
  {
   "cell_type": "code",
   "execution_count": 40,
   "metadata": {},
   "outputs": [
    {
     "name": "stdout",
     "output_type": "stream",
     "text": [
      "Hours worked wages TOT\n",
      "\n",
      "GDP per hour TOT\n",
      "\n",
      "Hours poverty SNGL2CHLD\n",
      "\n",
      "GDP cap contr LPRDTY\n",
      "\n",
      "Wages par activty SERV\n",
      "\n",
      "Income inequalities P50P10\n",
      "\n",
      "Poverty rate 0_17\n",
      "\n",
      "Emp rate MEN\n"
     ]
    }
   ],
   "source": [
    "print('Hours worked wages', hrs_wk['SUBJECT'].iloc[0])\n",
    "print('')\n",
    "print('GDP per hour', GDPhrs_wk['SUBJECT'].iloc[0])\n",
    "print('')\n",
    "print('Hours poverty', hrs_pvty['SUBJECT'].iloc[0])\n",
    "print('')\n",
    "print('GDP cap contr', GDPcapContr['SUBJECT'].iloc[0])\n",
    "print('')\n",
    "print('Wages par activty', wg_actvy['SUBJECT'].iloc[0])\n",
    "print('')\n",
    "print('Income inequalities', income_ineq['SUBJECT'].iloc[0])\n",
    "print('')\n",
    "print('Poverty rate', poverty['SUBJECT'].iloc[0])\n",
    "print('')\n",
    "print('Emp rate', emp_rate['SUBJECT'].iloc[0])\n"
   ]
  },
  {
   "cell_type": "markdown",
   "metadata": {},
   "source": [
    "Oupsi. Faudrait voir ce que signifient SNGL2CHLD, LPRDTY, SERV, P50P10, 0_17 et MEN \n",
    "(bon, probablement MEN ça veut dire hommes ?)"
   ]
  },
  {
   "cell_type": "markdown",
   "metadata": {},
   "source": [
    "____\n",
    "\n",
    "## First graphs\n",
    "We isolate year 2018 on each of the measures"
   ]
  },
  {
   "cell_type": "code",
   "execution_count": null,
   "metadata": {},
   "outputs": [],
   "source": [
    "hrs_wk \n",
    "avg_wg\n",
    "hrs_pvty\n",
    "GDPhrs_wk\n",
    "GDPcapContr\n",
    "wg_actvy\n",
    "income_ineq\n",
    "poverty\n",
    "emp_rate"
   ]
  },
  {
   "cell_type": "code",
   "execution_count": 41,
   "metadata": {},
   "outputs": [],
   "source": [
    "hrs_wk.rename(columns={'Value': 'hrs_wk'}, inplace=True)\n",
    "avg_wg.rename(columns={'Value': 'avg_wg'}, inplace=True)\n",
    "hrs_pvty.rename(columns={'Value': 'hrs_pvty'}, inplace=True)\n",
    "GDPhrs_wk.rename(columns={'Value': 'GDPhrs_wk'}, inplace=True)\n",
    "GDPcapContr.rename(columns={'Value': 'GDPcapContr'}, inplace=True)\n",
    "wg_actvy.rename(columns={'Value': 'wg_actvy'}, inplace=True)\n",
    "income_ineq.rename(columns={'Value': 'income_ineq'}, inplace=True)\n",
    "poverty.rename(columns={'Value': 'poverty'}, inplace=True)\n",
    "emp_rate.rename(columns={'Value': 'emp_rate'}, inplace=True)"
   ]
  },
  {
   "cell_type": "code",
   "execution_count": 42,
   "metadata": {},
   "outputs": [
    {
     "data": {
      "text/html": [
       "<div>\n",
       "<style scoped>\n",
       "    .dataframe tbody tr th:only-of-type {\n",
       "        vertical-align: middle;\n",
       "    }\n",
       "\n",
       "    .dataframe tbody tr th {\n",
       "        vertical-align: top;\n",
       "    }\n",
       "\n",
       "    .dataframe thead th {\n",
       "        text-align: right;\n",
       "    }\n",
       "</style>\n",
       "<table border=\"1\" class=\"dataframe\">\n",
       "  <thead>\n",
       "    <tr style=\"text-align: right;\">\n",
       "      <th></th>\n",
       "      <th>LOCATION</th>\n",
       "      <th>INDICATOR</th>\n",
       "      <th>SUBJECT</th>\n",
       "      <th>MEASURE</th>\n",
       "      <th>FREQUENCY</th>\n",
       "      <th>TIME</th>\n",
       "      <th>hrs_pvty</th>\n",
       "      <th>Flag Codes</th>\n",
       "    </tr>\n",
       "  </thead>\n",
       "  <tbody>\n",
       "    <tr>\n",
       "      <th>0</th>\n",
       "      <td>AUS</td>\n",
       "      <td>WORKEXPOV</td>\n",
       "      <td>SNGL2CHLD</td>\n",
       "      <td>HR_67PC_AVEWAGE</td>\n",
       "      <td>A</td>\n",
       "      <td>2001</td>\n",
       "      <td>1</td>\n",
       "      <td>NaN</td>\n",
       "    </tr>\n",
       "    <tr>\n",
       "      <th>1</th>\n",
       "      <td>AUS</td>\n",
       "      <td>WORKEXPOV</td>\n",
       "      <td>SNGL2CHLD</td>\n",
       "      <td>HR_67PC_AVEWAGE</td>\n",
       "      <td>A</td>\n",
       "      <td>2002</td>\n",
       "      <td>2</td>\n",
       "      <td>NaN</td>\n",
       "    </tr>\n",
       "    <tr>\n",
       "      <th>2</th>\n",
       "      <td>AUS</td>\n",
       "      <td>WORKEXPOV</td>\n",
       "      <td>SNGL2CHLD</td>\n",
       "      <td>HR_67PC_AVEWAGE</td>\n",
       "      <td>A</td>\n",
       "      <td>2003</td>\n",
       "      <td>2</td>\n",
       "      <td>NaN</td>\n",
       "    </tr>\n",
       "    <tr>\n",
       "      <th>3</th>\n",
       "      <td>AUS</td>\n",
       "      <td>WORKEXPOV</td>\n",
       "      <td>SNGL2CHLD</td>\n",
       "      <td>HR_67PC_AVEWAGE</td>\n",
       "      <td>A</td>\n",
       "      <td>2004</td>\n",
       "      <td>1</td>\n",
       "      <td>NaN</td>\n",
       "    </tr>\n",
       "    <tr>\n",
       "      <th>4</th>\n",
       "      <td>AUS</td>\n",
       "      <td>WORKEXPOV</td>\n",
       "      <td>SNGL2CHLD</td>\n",
       "      <td>HR_67PC_AVEWAGE</td>\n",
       "      <td>A</td>\n",
       "      <td>2005</td>\n",
       "      <td>4</td>\n",
       "      <td>NaN</td>\n",
       "    </tr>\n",
       "    <tr>\n",
       "      <th>...</th>\n",
       "      <td>...</td>\n",
       "      <td>...</td>\n",
       "      <td>...</td>\n",
       "      <td>...</td>\n",
       "      <td>...</td>\n",
       "      <td>...</td>\n",
       "      <td>...</td>\n",
       "      <td>...</td>\n",
       "    </tr>\n",
       "    <tr>\n",
       "      <th>8691</th>\n",
       "      <td>RUS</td>\n",
       "      <td>WORKEXPOV</td>\n",
       "      <td>UNEMP_COUPLNOCHLD</td>\n",
       "      <td>HR_AVEWAGE</td>\n",
       "      <td>A</td>\n",
       "      <td>2018</td>\n",
       "      <td>27</td>\n",
       "      <td>NaN</td>\n",
       "    </tr>\n",
       "    <tr>\n",
       "      <th>8692</th>\n",
       "      <td>RUS</td>\n",
       "      <td>WORKEXPOV</td>\n",
       "      <td>SNGL2CHLD</td>\n",
       "      <td>HR_MINWAGE</td>\n",
       "      <td>A</td>\n",
       "      <td>2018</td>\n",
       "      <td>67</td>\n",
       "      <td>NaN</td>\n",
       "    </tr>\n",
       "    <tr>\n",
       "      <th>8693</th>\n",
       "      <td>RUS</td>\n",
       "      <td>WORKEXPOV</td>\n",
       "      <td>SNGLNOCHLD</td>\n",
       "      <td>HR_MINWAGE</td>\n",
       "      <td>A</td>\n",
       "      <td>2018</td>\n",
       "      <td>80</td>\n",
       "      <td>NaN</td>\n",
       "    </tr>\n",
       "    <tr>\n",
       "      <th>8694</th>\n",
       "      <td>RUS</td>\n",
       "      <td>WORKEXPOV</td>\n",
       "      <td>UNEMP_COUPL2CHLD</td>\n",
       "      <td>HR_MINWAGE</td>\n",
       "      <td>A</td>\n",
       "      <td>2018</td>\n",
       "      <td>80</td>\n",
       "      <td>NaN</td>\n",
       "    </tr>\n",
       "    <tr>\n",
       "      <th>8695</th>\n",
       "      <td>RUS</td>\n",
       "      <td>WORKEXPOV</td>\n",
       "      <td>UNEMP_COUPLNOCHLD</td>\n",
       "      <td>HR_MINWAGE</td>\n",
       "      <td>A</td>\n",
       "      <td>2018</td>\n",
       "      <td>80</td>\n",
       "      <td>NaN</td>\n",
       "    </tr>\n",
       "  </tbody>\n",
       "</table>\n",
       "<p>8696 rows × 8 columns</p>\n",
       "</div>"
      ],
      "text/plain": [
       "     LOCATION  INDICATOR            SUBJECT          MEASURE FREQUENCY  TIME  \\\n",
       "0         AUS  WORKEXPOV          SNGL2CHLD  HR_67PC_AVEWAGE         A  2001   \n",
       "1         AUS  WORKEXPOV          SNGL2CHLD  HR_67PC_AVEWAGE         A  2002   \n",
       "2         AUS  WORKEXPOV          SNGL2CHLD  HR_67PC_AVEWAGE         A  2003   \n",
       "3         AUS  WORKEXPOV          SNGL2CHLD  HR_67PC_AVEWAGE         A  2004   \n",
       "4         AUS  WORKEXPOV          SNGL2CHLD  HR_67PC_AVEWAGE         A  2005   \n",
       "...       ...        ...                ...              ...       ...   ...   \n",
       "8691      RUS  WORKEXPOV  UNEMP_COUPLNOCHLD       HR_AVEWAGE         A  2018   \n",
       "8692      RUS  WORKEXPOV          SNGL2CHLD       HR_MINWAGE         A  2018   \n",
       "8693      RUS  WORKEXPOV         SNGLNOCHLD       HR_MINWAGE         A  2018   \n",
       "8694      RUS  WORKEXPOV   UNEMP_COUPL2CHLD       HR_MINWAGE         A  2018   \n",
       "8695      RUS  WORKEXPOV  UNEMP_COUPLNOCHLD       HR_MINWAGE         A  2018   \n",
       "\n",
       "      hrs_pvty  Flag Codes  \n",
       "0            1         NaN  \n",
       "1            2         NaN  \n",
       "2            2         NaN  \n",
       "3            1         NaN  \n",
       "4            4         NaN  \n",
       "...        ...         ...  \n",
       "8691        27         NaN  \n",
       "8692        67         NaN  \n",
       "8693        80         NaN  \n",
       "8694        80         NaN  \n",
       "8695        80         NaN  \n",
       "\n",
       "[8696 rows x 8 columns]"
      ]
     },
     "execution_count": 42,
     "metadata": {},
     "output_type": "execute_result"
    }
   ],
   "source": [
    "hrs_pvty"
   ]
  },
  {
   "cell_type": "code",
   "execution_count": 43,
   "metadata": {},
   "outputs": [],
   "source": [
    "avg_wg_2018 = avg_wg[avg_wg['TIME'] == 2018]\n",
    "hrs_wk_2018 = hrs_wk[hrs_wk['TIME'] == 2018]\n",
    "hrs_pvty_2018 = hrs_pvty[hrs_pvty['TIME'] == 2018]\n",
    "GDPhrs_wk_2018 = GDPhrs_wk[GDPhrs_wk['TIME'] == 2018]\n",
    "GDPcapContr_2018 = GDPcapContr[GDPcapContr['TIME'] == 2018]\n",
    "wg_actvy_2018 = wg_actvy[wg_actvy['TIME'] == 2018]\n",
    "income_ineq_2018 = income_ineq[income_ineq['TIME'] == 2018]\n",
    "poverty_2018 = poverty[poverty['TIME'] == 2018]\n",
    "emp_rate_2018 = emp_rate[emp_rate['TIME'] == 2018]"
   ]
  },
  {
   "cell_type": "markdown",
   "metadata": {},
   "source": [
    "Again we have to make choices for a first naive analysis\n",
    "for \"hours to get out of poverty\" => single no child has a data point for each country as well as minimum wage. We select this data "
   ]
  },
  {
   "cell_type": "code",
   "execution_count": 44,
   "metadata": {},
   "outputs": [],
   "source": [
    "hrs_pvty_2018 = hrs_pvty_2018[(hrs_pvty_2018['SUBJECT'] == 'SNGLNOCHLD') &  (hrs_pvty_2018['MEASURE'] == 'HR_67PC_AVEWAGE')]"
   ]
  },
  {
   "cell_type": "markdown",
   "metadata": {},
   "source": [
    "It is not the only one. GDPhrs_wk_2018 has 2 options as well : \n",
    "* US Dollars\n",
    "* 2015 = 100\n",
    "\n",
    "We use the first option."
   ]
  },
  {
   "cell_type": "code",
   "execution_count": 45,
   "metadata": {},
   "outputs": [],
   "source": [
    "GDPhrs_wk_2018 = GDPhrs_wk_2018[GDPhrs_wk_2018['MEASURE'] == 'USD']"
   ]
  },
  {
   "cell_type": "markdown",
   "metadata": {},
   "source": [
    "The GDP per capita has 2 options:\n",
    "* labour productivity\n",
    "* labour utilisation\n",
    "\n",
    "We split the 2 into two dataframes"
   ]
  },
  {
   "cell_type": "code",
   "execution_count": 46,
   "metadata": {},
   "outputs": [],
   "source": [
    "GDPcapContr_productivity_2018 = GDPcapContr_2018[GDPcapContr_2018['SUBJECT']=='LPRDTY']\n",
    "GDPcapContr_utilisation_2018 = GDPcapContr_2018[GDPcapContr_2018['SUBJECT']=='LUTILISATION']"
   ]
  },
  {
   "cell_type": "markdown",
   "metadata": {},
   "source": [
    "wg_actvy has 4 subjects : \n",
    "* agriculture\n",
    "* industry\n",
    "* services\n",
    "* total\n",
    "\n",
    "We only select the \"total\" category in a first place"
   ]
  },
  {
   "cell_type": "code",
   "execution_count": 47,
   "metadata": {},
   "outputs": [],
   "source": [
    "wg_actvy_2018 =wg_actvy_2018[wg_actvy_2018['SUBJECT'] == 'TOT']"
   ]
  },
  {
   "cell_type": "markdown",
   "metadata": {},
   "source": [
    "income_ineq_2018. The inequality is measured through different methods.: \n",
    "* Gini coefficient\n",
    "* Interdecile P50/P10\n",
    "* Interdecile P90/P10\n",
    "* Interdecile P90/P50\n",
    "* Palma ratio\n",
    "* S80/S20 quintile share\n",
    "\n",
    "In a first place we only select the Gini coefficient"
   ]
  },
  {
   "cell_type": "code",
   "execution_count": 48,
   "metadata": {},
   "outputs": [],
   "source": [
    "income_ineq_2018 = income_ineq_2018[income_ineq_2018['SUBJECT'] == 'GINI']"
   ]
  },
  {
   "cell_type": "markdown",
   "metadata": {},
   "source": [
    "4 options in the calculation of poverty index:\n",
    "* Total\n",
    "* 0-17 year-olds\n",
    "* 18-65 year-olds\n",
    "* 66 year-olds or more\n",
    "\n",
    "we chose total"
   ]
  },
  {
   "cell_type": "code",
   "execution_count": 49,
   "metadata": {},
   "outputs": [],
   "source": [
    "poverty_2018 = poverty_2018[poverty_2018['SUBJECT'] == 'TOT']"
   ]
  },
  {
   "cell_type": "markdown",
   "metadata": {},
   "source": [
    "avg_wg_2018 = avg_wg_2018[avg_wg_2018[]]"
   ]
  },
  {
   "cell_type": "code",
   "execution_count": 50,
   "metadata": {},
   "outputs": [],
   "source": [
    "avg_wg_2018 = avg_wg_2018[['LOCATION','avg_wg']]\n",
    "hrs_wk_2018 = hrs_wk_2018[['LOCATION','hrs_wk']]\n",
    "hrs_pvty_2018 = hrs_pvty_2018[['LOCATION','hrs_pvty']]\n",
    "GDPhrs_wk_2018 = GDPhrs_wk_2018[['LOCATION','GDPhrs_wk']]\n",
    "GDPcapContr_productivity_2018 = GDPcapContr_productivity_2018[['LOCATION','GDPcapContr']]\n",
    "GDPcapContr_utilisation_2018 = GDPcapContr_utilisation_2018[['LOCATION','GDPcapContr']]\n",
    "wg_actvy_2018 = wg_actvy_2018[['LOCATION','wg_actvy']]\n",
    "income_ineq_2018 = income_ineq_2018[['LOCATION','income_ineq']]\n",
    "poverty_2018 = poverty_2018[['LOCATION','poverty']]\n",
    "emp_rate_2018 = emp_rate_2018[['LOCATION','emp_rate']]"
   ]
  },
  {
   "cell_type": "code",
   "execution_count": 51,
   "metadata": {},
   "outputs": [],
   "source": [
    "avg_wg_2018_EU = avg_wg_2018[avg_wg_2018['LOCATION'].isin(EU)]\n",
    "hrs_wk_2018_EU = hrs_wk_2018[hrs_wk_2018['LOCATION'].isin(EU)]\n",
    "hrs_pvty_2018_EU = hrs_pvty_2018[hrs_pvty_2018['LOCATION'].isin(EU)]\n",
    "GDPhrs_wk_2018_EU = GDPhrs_wk_2018[GDPhrs_wk_2018['LOCATION'].isin(EU)]\n",
    "GDPcapContr_productivity_2018_EU = GDPcapContr_productivity_2018 [GDPcapContr_productivity_2018 ['LOCATION'].isin(EU)]\n",
    "GDPcapContr_utilisation_2018_EU = GDPcapContr_utilisation_2018[GDPcapContr_utilisation_2018['LOCATION'].isin(EU)]\n",
    "wg_actvy_2018_EU = wg_actvy_2018[wg_actvy_2018['LOCATION'].isin(EU)]\n",
    "income_ineq_2018_EU = income_ineq_2018[income_ineq_2018['LOCATION'].isin(EU)]\n",
    "poverty_2018_EU = poverty_2018[poverty_2018['LOCATION'].isin(EU)]\n"
   ]
  },
  {
   "cell_type": "code",
   "execution_count": 52,
   "metadata": {},
   "outputs": [
    {
     "name": "stdout",
     "output_type": "stream",
     "text": [
      "['AUT' 'BEL' 'CZE' 'DNK' 'FIN' 'FRA' 'DEU' 'GRC' 'HUN' 'IRL' 'ITA' 'LUX'\n",
      " 'NLD' 'POL' 'PRT' 'SVK' 'ESP' 'SWE' 'EST' 'SVN' 'LVA' 'LTU']\n",
      "['AUT' 'BEL' 'CZE' 'DNK' 'FIN' 'FRA' 'DEU' 'GRC' 'HUN' 'IRL' 'ITA' 'LUX'\n",
      " 'NLD' 'POL' 'PRT' 'SVK' 'ESP' 'SWE' 'EST' 'SVN' 'LVA' 'LTU']\n",
      "['AUT' 'BEL' 'CZE' 'DNK' 'FIN' 'FRA' 'DEU' 'GRC' 'HUN' 'IRL' 'ITA' 'LUX'\n",
      " 'NLD' 'POL' 'PRT' 'SVK' 'ESP' 'SWE' 'EST' 'LVA' 'LTU' 'SVN']\n",
      "['AUT' 'BEL' 'CZE' 'DNK' 'FIN' 'FRA' 'DEU' 'GRC' 'HUN' 'IRL' 'ITA' 'LUX'\n",
      " 'NLD' 'POL' 'PRT' 'SVK' 'ESP' 'SWE' 'EST' 'SVN' 'LVA' 'LTU']\n",
      "['AUT' 'BEL' 'CZE' 'DNK' 'FIN' 'FRA' 'DEU' 'GRC' 'HUN' 'IRL' 'ITA' 'LUX'\n",
      " 'NLD' 'POL' 'PRT' 'SVK' 'ESP' 'SWE' 'EST' 'SVN' 'LVA' 'LTU']\n"
     ]
    }
   ],
   "source": [
    "print(avg_wg_2018_EU['LOCATION'].unique())\n",
    "print(hrs_wk_2018_EU['LOCATION'].unique())\n",
    "print(hrs_pvty_2018_EU['LOCATION'].unique())\n",
    "print(GDPhrs_wk_2018_EU['LOCATION'].unique())\n",
    "print(GDPcapContr_productivity_2018_EU['LOCATION'].unique())"
   ]
  },
  {
   "cell_type": "code",
   "execution_count": 53,
   "metadata": {},
   "outputs": [],
   "source": [
    "data_2018_EU = [hrs_wk_2018_EU, hrs_pvty_2018_EU , GDPhrs_wk_2018_EU , GDPcapContr_productivity_2018_EU , GDPcapContr_utilisation_2018_EU , wg_actvy_2018_EU, income_ineq_2018_EU, poverty_2018_EU]\n",
    "\n",
    "final = avg_wg_2018_EU\n",
    "for element in data_2018_EU :\n",
    "    final = pd.merge(final, element, how=\"right\",    on='LOCATION')\n",
    "final = final.drop_duplicates()"
   ]
  },
  {
   "cell_type": "code",
   "execution_count": 54,
   "metadata": {},
   "outputs": [
    {
     "data": {
      "text/html": [
       "<div>\n",
       "<style scoped>\n",
       "    .dataframe tbody tr th:only-of-type {\n",
       "        vertical-align: middle;\n",
       "    }\n",
       "\n",
       "    .dataframe tbody tr th {\n",
       "        vertical-align: top;\n",
       "    }\n",
       "\n",
       "    .dataframe thead th {\n",
       "        text-align: right;\n",
       "    }\n",
       "</style>\n",
       "<table border=\"1\" class=\"dataframe\">\n",
       "  <thead>\n",
       "    <tr style=\"text-align: right;\">\n",
       "      <th></th>\n",
       "      <th>LOCATION</th>\n",
       "      <th>avg_wg</th>\n",
       "      <th>hrs_wk</th>\n",
       "      <th>hrs_pvty</th>\n",
       "      <th>GDPhrs_wk</th>\n",
       "      <th>GDPcapContr_x</th>\n",
       "      <th>GDPcapContr_y</th>\n",
       "      <th>wg_actvy</th>\n",
       "      <th>income_ineq</th>\n",
       "      <th>poverty</th>\n",
       "    </tr>\n",
       "  </thead>\n",
       "  <tbody>\n",
       "    <tr>\n",
       "      <th>0</th>\n",
       "      <td>AUT</td>\n",
       "      <td>53325.486022</td>\n",
       "      <td>1502.0</td>\n",
       "      <td>20</td>\n",
       "      <td>68.360281</td>\n",
       "      <td>0.530617</td>\n",
       "      <td>1.468707</td>\n",
       "      <td>53.750794</td>\n",
       "      <td>0.280</td>\n",
       "      <td>0.094</td>\n",
       "    </tr>\n",
       "    <tr>\n",
       "      <th>1</th>\n",
       "      <td>BEL</td>\n",
       "      <td>55387.695298</td>\n",
       "      <td>1580.0</td>\n",
       "      <td>16</td>\n",
       "      <td>71.700122</td>\n",
       "      <td>0.232198</td>\n",
       "      <td>1.121062</td>\n",
       "      <td>55.198516</td>\n",
       "      <td>0.258</td>\n",
       "      <td>0.082</td>\n",
       "    </tr>\n",
       "    <tr>\n",
       "      <th>2</th>\n",
       "      <td>CZE</td>\n",
       "      <td>29420.908126</td>\n",
       "      <td>1785.0</td>\n",
       "      <td>27</td>\n",
       "      <td>41.152718</td>\n",
       "      <td>1.371441</td>\n",
       "      <td>1.448950</td>\n",
       "      <td>49.213429</td>\n",
       "      <td>0.249</td>\n",
       "      <td>0.061</td>\n",
       "    </tr>\n",
       "    <tr>\n",
       "      <th>3</th>\n",
       "      <td>DNK</td>\n",
       "      <td>57794.204720</td>\n",
       "      <td>1381.0</td>\n",
       "      <td>24</td>\n",
       "      <td>73.769587</td>\n",
       "      <td>2.201011</td>\n",
       "      <td>-0.706402</td>\n",
       "      <td>59.039385</td>\n",
       "      <td>0.263</td>\n",
       "      <td>0.064</td>\n",
       "    </tr>\n",
       "    <tr>\n",
       "      <th>4</th>\n",
       "      <td>FIN</td>\n",
       "      <td>45770.842268</td>\n",
       "      <td>1546.0</td>\n",
       "      <td>20</td>\n",
       "      <td>61.547286</td>\n",
       "      <td>-1.143051</td>\n",
       "      <td>2.163040</td>\n",
       "      <td>53.961970</td>\n",
       "      <td>0.269</td>\n",
       "      <td>0.065</td>\n",
       "    </tr>\n",
       "    <tr>\n",
       "      <th>5</th>\n",
       "      <td>FRA</td>\n",
       "      <td>46866.520015</td>\n",
       "      <td>1514.0</td>\n",
       "      <td>16</td>\n",
       "      <td>67.155153</td>\n",
       "      <td>0.409723</td>\n",
       "      <td>1.032426</td>\n",
       "      <td>58.595041</td>\n",
       "      <td>0.301</td>\n",
       "      <td>0.085</td>\n",
       "    </tr>\n",
       "    <tr>\n",
       "      <th>6</th>\n",
       "      <td>DEU</td>\n",
       "      <td>53220.549493</td>\n",
       "      <td>1386.9</td>\n",
       "      <td>19</td>\n",
       "      <td>66.438174</td>\n",
       "      <td>0.039718</td>\n",
       "      <td>0.742410</td>\n",
       "      <td>58.356663</td>\n",
       "      <td>0.289</td>\n",
       "      <td>0.098</td>\n",
       "    </tr>\n",
       "    <tr>\n",
       "      <th>7</th>\n",
       "      <td>GRC</td>\n",
       "      <td>26680.286876</td>\n",
       "      <td>1965.0</td>\n",
       "      <td>16</td>\n",
       "      <td>32.410775</td>\n",
       "      <td>-3.675869</td>\n",
       "      <td>5.762689</td>\n",
       "      <td>42.349238</td>\n",
       "      <td>0.306</td>\n",
       "      <td>0.121</td>\n",
       "    </tr>\n",
       "    <tr>\n",
       "      <th>8</th>\n",
       "      <td>HUN</td>\n",
       "      <td>23720.568993</td>\n",
       "      <td>1729.9</td>\n",
       "      <td>22</td>\n",
       "      <td>36.720453</td>\n",
       "      <td>4.050119</td>\n",
       "      <td>1.386874</td>\n",
       "      <td>49.934744</td>\n",
       "      <td>0.280</td>\n",
       "      <td>0.087</td>\n",
       "    </tr>\n",
       "    <tr>\n",
       "      <th>9</th>\n",
       "      <td>IRL</td>\n",
       "      <td>48586.231015</td>\n",
       "      <td>1782.0</td>\n",
       "      <td>18</td>\n",
       "      <td>99.808717</td>\n",
       "      <td>5.264621</td>\n",
       "      <td>2.333259</td>\n",
       "      <td>30.629816</td>\n",
       "      <td>0.292</td>\n",
       "      <td>0.074</td>\n",
       "    </tr>\n",
       "    <tr>\n",
       "      <th>10</th>\n",
       "      <td>ITA</td>\n",
       "      <td>39984.835445</td>\n",
       "      <td>1719.4</td>\n",
       "      <td>19</td>\n",
       "      <td>53.393274</td>\n",
       "      <td>-0.012384</td>\n",
       "      <td>1.149199</td>\n",
       "      <td>44.475861</td>\n",
       "      <td>0.330</td>\n",
       "      <td>0.142</td>\n",
       "    </tr>\n",
       "    <tr>\n",
       "      <th>11</th>\n",
       "      <td>LUX</td>\n",
       "      <td>67447.759931</td>\n",
       "      <td>1506.0</td>\n",
       "      <td>22</td>\n",
       "      <td>98.602591</td>\n",
       "      <td>-1.649991</td>\n",
       "      <td>1.700328</td>\n",
       "      <td>53.993505</td>\n",
       "      <td>0.318</td>\n",
       "      <td>0.114</td>\n",
       "    </tr>\n",
       "    <tr>\n",
       "      <th>12</th>\n",
       "      <td>NLD</td>\n",
       "      <td>57581.376527</td>\n",
       "      <td>1436.0</td>\n",
       "      <td>19</td>\n",
       "      <td>67.876916</td>\n",
       "      <td>-0.321070</td>\n",
       "      <td>2.088735</td>\n",
       "      <td>53.396320</td>\n",
       "      <td>0.295</td>\n",
       "      <td>0.078</td>\n",
       "    </tr>\n",
       "    <tr>\n",
       "      <th>13</th>\n",
       "      <td>POL</td>\n",
       "      <td>30212.177626</td>\n",
       "      <td>1785.0</td>\n",
       "      <td>27</td>\n",
       "      <td>39.697197</td>\n",
       "      <td>6.134181</td>\n",
       "      <td>-0.712111</td>\n",
       "      <td>44.899816</td>\n",
       "      <td>0.281</td>\n",
       "      <td>0.098</td>\n",
       "    </tr>\n",
       "    <tr>\n",
       "      <th>14</th>\n",
       "      <td>PRT</td>\n",
       "      <td>27263.318632</td>\n",
       "      <td>1738.0</td>\n",
       "      <td>20</td>\n",
       "      <td>39.068634</td>\n",
       "      <td>-0.118854</td>\n",
       "      <td>3.136926</td>\n",
       "      <td>51.634206</td>\n",
       "      <td>0.317</td>\n",
       "      <td>0.104</td>\n",
       "    </tr>\n",
       "    <tr>\n",
       "      <th>15</th>\n",
       "      <td>SVK</td>\n",
       "      <td>22692.396380</td>\n",
       "      <td>1704.0</td>\n",
       "      <td>26</td>\n",
       "      <td>42.944240</td>\n",
       "      <td>2.339567</td>\n",
       "      <td>1.279644</td>\n",
       "      <td>46.625977</td>\n",
       "      <td>0.236</td>\n",
       "      <td>0.077</td>\n",
       "    </tr>\n",
       "    <tr>\n",
       "      <th>16</th>\n",
       "      <td>ESP</td>\n",
       "      <td>39032.639352</td>\n",
       "      <td>1698.9</td>\n",
       "      <td>20</td>\n",
       "      <td>52.314162</td>\n",
       "      <td>-0.224332</td>\n",
       "      <td>2.088882</td>\n",
       "      <td>50.120130</td>\n",
       "      <td>0.330</td>\n",
       "      <td>0.142</td>\n",
       "    </tr>\n",
       "    <tr>\n",
       "      <th>17</th>\n",
       "      <td>SWE</td>\n",
       "      <td>45916.583942</td>\n",
       "      <td>1466.0</td>\n",
       "      <td>24</td>\n",
       "      <td>68.721160</td>\n",
       "      <td>0.328086</td>\n",
       "      <td>0.443063</td>\n",
       "      <td>53.963876</td>\n",
       "      <td>0.275</td>\n",
       "      <td>0.089</td>\n",
       "    </tr>\n",
       "    <tr>\n",
       "      <th>18</th>\n",
       "      <td>EST</td>\n",
       "      <td>27919.835265</td>\n",
       "      <td>1724.0</td>\n",
       "      <td>26</td>\n",
       "      <td>39.076217</td>\n",
       "      <td>5.818296</td>\n",
       "      <td>-1.855421</td>\n",
       "      <td>55.126669</td>\n",
       "      <td>0.305</td>\n",
       "      <td>0.163</td>\n",
       "    </tr>\n",
       "    <tr>\n",
       "      <th>19</th>\n",
       "      <td>SVN</td>\n",
       "      <td>39376.873493</td>\n",
       "      <td>1598.7</td>\n",
       "      <td>31</td>\n",
       "      <td>45.156100</td>\n",
       "      <td>2.625993</td>\n",
       "      <td>1.449180</td>\n",
       "      <td>57.119185</td>\n",
       "      <td>0.249</td>\n",
       "      <td>0.075</td>\n",
       "    </tr>\n",
       "    <tr>\n",
       "      <th>20</th>\n",
       "      <td>LVA</td>\n",
       "      <td>27106.566866</td>\n",
       "      <td>1661.0</td>\n",
       "      <td>30</td>\n",
       "      <td>36.376781</td>\n",
       "      <td>1.819241</td>\n",
       "      <td>2.922163</td>\n",
       "      <td>54.963472</td>\n",
       "      <td>0.351</td>\n",
       "      <td>0.175</td>\n",
       "    </tr>\n",
       "    <tr>\n",
       "      <th>21</th>\n",
       "      <td>LTU</td>\n",
       "      <td>27572.383450</td>\n",
       "      <td>1664.0</td>\n",
       "      <td>25</td>\n",
       "      <td>40.536245</td>\n",
       "      <td>2.152294</td>\n",
       "      <td>2.778264</td>\n",
       "      <td>49.805038</td>\n",
       "      <td>0.361</td>\n",
       "      <td>0.155</td>\n",
       "    </tr>\n",
       "  </tbody>\n",
       "</table>\n",
       "</div>"
      ],
      "text/plain": [
       "   LOCATION        avg_wg  hrs_wk  hrs_pvty  GDPhrs_wk  GDPcapContr_x  \\\n",
       "0       AUT  53325.486022  1502.0        20  68.360281       0.530617   \n",
       "1       BEL  55387.695298  1580.0        16  71.700122       0.232198   \n",
       "2       CZE  29420.908126  1785.0        27  41.152718       1.371441   \n",
       "3       DNK  57794.204720  1381.0        24  73.769587       2.201011   \n",
       "4       FIN  45770.842268  1546.0        20  61.547286      -1.143051   \n",
       "5       FRA  46866.520015  1514.0        16  67.155153       0.409723   \n",
       "6       DEU  53220.549493  1386.9        19  66.438174       0.039718   \n",
       "7       GRC  26680.286876  1965.0        16  32.410775      -3.675869   \n",
       "8       HUN  23720.568993  1729.9        22  36.720453       4.050119   \n",
       "9       IRL  48586.231015  1782.0        18  99.808717       5.264621   \n",
       "10      ITA  39984.835445  1719.4        19  53.393274      -0.012384   \n",
       "11      LUX  67447.759931  1506.0        22  98.602591      -1.649991   \n",
       "12      NLD  57581.376527  1436.0        19  67.876916      -0.321070   \n",
       "13      POL  30212.177626  1785.0        27  39.697197       6.134181   \n",
       "14      PRT  27263.318632  1738.0        20  39.068634      -0.118854   \n",
       "15      SVK  22692.396380  1704.0        26  42.944240       2.339567   \n",
       "16      ESP  39032.639352  1698.9        20  52.314162      -0.224332   \n",
       "17      SWE  45916.583942  1466.0        24  68.721160       0.328086   \n",
       "18      EST  27919.835265  1724.0        26  39.076217       5.818296   \n",
       "19      SVN  39376.873493  1598.7        31  45.156100       2.625993   \n",
       "20      LVA  27106.566866  1661.0        30  36.376781       1.819241   \n",
       "21      LTU  27572.383450  1664.0        25  40.536245       2.152294   \n",
       "\n",
       "    GDPcapContr_y   wg_actvy  income_ineq  poverty  \n",
       "0        1.468707  53.750794        0.280    0.094  \n",
       "1        1.121062  55.198516        0.258    0.082  \n",
       "2        1.448950  49.213429        0.249    0.061  \n",
       "3       -0.706402  59.039385        0.263    0.064  \n",
       "4        2.163040  53.961970        0.269    0.065  \n",
       "5        1.032426  58.595041        0.301    0.085  \n",
       "6        0.742410  58.356663        0.289    0.098  \n",
       "7        5.762689  42.349238        0.306    0.121  \n",
       "8        1.386874  49.934744        0.280    0.087  \n",
       "9        2.333259  30.629816        0.292    0.074  \n",
       "10       1.149199  44.475861        0.330    0.142  \n",
       "11       1.700328  53.993505        0.318    0.114  \n",
       "12       2.088735  53.396320        0.295    0.078  \n",
       "13      -0.712111  44.899816        0.281    0.098  \n",
       "14       3.136926  51.634206        0.317    0.104  \n",
       "15       1.279644  46.625977        0.236    0.077  \n",
       "16       2.088882  50.120130        0.330    0.142  \n",
       "17       0.443063  53.963876        0.275    0.089  \n",
       "18      -1.855421  55.126669        0.305    0.163  \n",
       "19       1.449180  57.119185        0.249    0.075  \n",
       "20       2.922163  54.963472        0.351    0.175  \n",
       "21       2.778264  49.805038        0.361    0.155  "
      ]
     },
     "execution_count": 54,
     "metadata": {},
     "output_type": "execute_result"
    }
   ],
   "source": [
    "final"
   ]
  },
  {
   "cell_type": "code",
   "execution_count": 55,
   "metadata": {},
   "outputs": [],
   "source": [
    "import seaborn as sns\n",
    "import matplotlib.pyplot as plt"
   ]
  },
  {
   "cell_type": "code",
   "execution_count": 65,
   "metadata": {},
   "outputs": [],
   "source": [
    "def dataframe_description(dataframe):\n",
    "    print('First 5 items of the dataframe \\n')\n",
    "    print(dataframe.head(5))\n",
    "    print('Some statistics on the dataframe \\n')\n",
    "    print(dataframe.describe())\n",
    "    print('There are Nan values in this dataframe:', dataframe.isnull().values.any())\n",
    "    for name in dataframe.keys():\n",
    "            print(name, 'has', dataframe[name].isnull().sum(), 'Nan values')\n",
    "\n",
    "    print('The dataframe has', len(dataframe[dataframe.duplicated(keep=False)]), 'duplicated values')    \n",
    "    print('The correlation matrix is the following\\n')\n",
    "    corr_mat = dataframe.corr()\n",
    "    fig, ax = plt.subplots(figsize = (6,4)) # create the figure object\n",
    "    sns.heatmap(corr_mat, vmax = 1, square = True) # plot the heat-map\n"
   ]
  },
  {
   "cell_type": "code",
   "execution_count": 66,
   "metadata": {},
   "outputs": [
    {
     "name": "stdout",
     "output_type": "stream",
     "text": [
      "First 5 items of the dataframe \n",
      "\n",
      "  LOCATION        avg_wg  hrs_wk  hrs_pvty  GDPhrs_wk  GDPcapContr_x  \\\n",
      "0      AUT  53325.486022  1502.0        20  68.360281       0.530617   \n",
      "1      BEL  55387.695298  1580.0        16  71.700122       0.232198   \n",
      "2      CZE  29420.908126  1785.0        27  41.152718       1.371441   \n",
      "3      DNK  57794.204720  1381.0        24  73.769587       2.201011   \n",
      "4      FIN  45770.842268  1546.0        20  61.547286      -1.143051   \n",
      "\n",
      "   GDPcapContr_y   wg_actvy  income_ineq  poverty  \n",
      "0       1.468707  53.750794        0.280    0.094  \n",
      "1       1.121062  55.198516        0.258    0.082  \n",
      "2       1.448950  49.213429        0.249    0.061  \n",
      "3      -0.706402  59.039385        0.263    0.064  \n",
      "4       2.163040  53.961970        0.269    0.065  \n",
      "Some statistics on the dataframe \n",
      "\n",
      "             avg_wg       hrs_wk   hrs_pvty  GDPhrs_wk  GDPcapContr_x  \\\n",
      "count     22.000000    22.000000  22.000000  22.000000      22.000000   \n",
      "mean   40585.456352  1630.581818  22.136364  56.492126       1.280525   \n",
      "std    13326.953531   150.485948   4.421758  19.433675       2.438619   \n",
      "min    22692.396380  1381.000000  16.000000  32.410775      -3.675869   \n",
      "25%    27659.246404  1508.000000  19.000000  39.906959      -0.092236   \n",
      "50%    39680.854469  1662.500000  21.000000  52.853718       0.470170   \n",
      "75%    52061.969874  1728.425000  25.750000  68.239440       2.304928   \n",
      "max    67447.759931  1965.000000  31.000000  99.808717       6.134181   \n",
      "\n",
      "       GDPcapContr_y   wg_actvy  income_ineq    poverty  \n",
      "count      22.000000  22.000000    22.000000  22.000000  \n",
      "mean        1.510085  51.234257     0.292500   0.101955  \n",
      "std         1.537409   6.541035     0.033057   0.033774  \n",
      "min        -1.855421  30.629816     0.236000   0.061000  \n",
      "25%         1.054585  49.361331     0.270500   0.077250  \n",
      "50%         1.449065  53.573557     0.290500   0.091500  \n",
      "75%         2.144500  55.085870     0.314250   0.119250  \n",
      "max         5.762689  59.039385     0.361000   0.175000  \n",
      "There are Nan values in this dataframe: False\n",
      "LOCATION has 0 Nan values\n",
      "avg_wg has 0 Nan values\n",
      "hrs_wk has 0 Nan values\n",
      "hrs_pvty has 0 Nan values\n",
      "GDPhrs_wk has 0 Nan values\n",
      "GDPcapContr_x has 0 Nan values\n",
      "GDPcapContr_y has 0 Nan values\n",
      "wg_actvy has 0 Nan values\n",
      "income_ineq has 0 Nan values\n",
      "poverty has 0 Nan values\n",
      "The dataframe has 0 duplicated values\n",
      "The correlation matrix is the following\n",
      "\n"
     ]
    },
    {
     "data": {
      "image/png": "[encoded data removed]",
      "text/plain": [
       "<Figure size 432x288 with 2 Axes>"
      ]
     },
     "metadata": {
      "needs_background": "light"
     },
     "output_type": "display_data"
    }
   ],
   "source": [
    "dataframe_description(final)"
   ]
  },
  {
   "cell_type": "code",
   "execution_count": 64,
   "metadata": {},
   "outputs": [
    {
     "data": {
      "image/png": "[encoded data removed]",
      "text/plain": [
       "<Figure size 432x288 with 1 Axes>"
      ]
     },
     "metadata": {
      "needs_background": "light"
     },
     "output_type": "display_data"
    },
    {
     "data": {
      "image/png": "[encoded data removed]",
      "text/plain": [
       "<Figure size 432x288 with 1 Axes>"
      ]
     },
     "metadata": {
      "needs_background": "light"
     },
     "output_type": "display_data"
    },
    {
     "data": {
      "image/png": "[encoded data removed]",
      "text/plain": [
       "<Figure size 432x288 with 1 Axes>"
      ]
     },
     "metadata": {
      "needs_background": "light"
     },
     "output_type": "display_data"
    },
    {
     "data": {
      "image/png": "[encoded data removed]",
      "text/plain": [
       "<Figure size 432x288 with 1 Axes>"
      ]
     },
     "metadata": {
      "needs_background": "light"
     },
     "output_type": "display_data"
    },
    {
     "data": {
      "image/png": "[encoded data removed]",
      "text/plain": [
       "<Figure size 432x288 with 1 Axes>"
      ]
     },
     "metadata": {
      "needs_background": "light"
     },
     "output_type": "display_data"
    },
    {
     "data": {
      "image/png": "[encoded data removed]",
      "text/plain": [
       "<Figure size 432x288 with 1 Axes>"
      ]
     },
     "metadata": {
      "needs_background": "light"
     },
     "output_type": "display_data"
    },
    {
     "data": {
      "image/png": "[encoded data removed]",
      "text/plain": [
       "<Figure size 432x288 with 1 Axes>"
      ]
     },
     "metadata": {
      "needs_background": "light"
     },
     "output_type": "display_data"
    },
    {
     "data": {
      "image/png": "[encoded data removed]",
      "text/plain": [
       "<Figure size 432x288 with 1 Axes>"
      ]
     },
     "metadata": {
      "needs_background": "light"
     },
     "output_type": "display_data"
    },
    {
     "data": {
      "image/png": "[encoded data removed]",
      "text/plain": [
       "<Figure size 432x288 with 1 Axes>"
      ]
     },
     "metadata": {
      "needs_background": "light"
     },
     "output_type": "display_data"
    }
   ],
   "source": [
    "columns = final.columns\n",
    "for element in columns[1:] :\n",
    "    final.plot.bar(x = 'LOCATION', y = element)"
   ]
  },
  {
   "cell_type": "markdown",
   "metadata": {},
   "source": [
    "____\n"
   ]
  }
 ],
 "metadata": {
  "interpreter": {
   "hash": "8ff1774c64d83fce3825259fa3771bbe70271854497325f5fa1e2c1b92279703"
  },
  "kernelspec": {
   "display_name": "Python 3",
   "language": "python",
   "name": "python3"
  },
  "language_info": {
   "codemirror_mode": {
    "name": "ipython",
    "version": 3
   },
   "file_extension": ".py",
   "mimetype": "text/x-python",
   "name": "python",
   "nbconvert_exporter": "python",
   "pygments_lexer": "ipython3",
   "version": "3.7.4"
  }
 },
 "nbformat": 4,
 "nbformat_minor": 4
}
