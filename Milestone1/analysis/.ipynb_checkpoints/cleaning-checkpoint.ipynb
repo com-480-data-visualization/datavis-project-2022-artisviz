{
 "cells": [
  {
   "cell_type": "markdown",
   "metadata": {},
   "source": [
    "## Data cleaning\n",
    "\n",
    "Datasets\n",
    "* [Average wages](https://data.oecd.org/earnwage/average-wages.htm)\n",
    "* [Hours worked](https://data.oecd.org/emp/hours-worked.htm)\n",
    "* [Working hours needed to exit poverty](https://data.oecd.org/benwage/working-hours-needed-to-exit-poverty.htm)\n",
    "* [GDP per hour worked](https://data.oecd.org/lprdty/gdp-per-hour-worked.htm)\n",
    "* [Labour productivity and utilisation](https://data.oecd.org/lprdty/labour-productivity-and-utilisation.htm#indicator-chart)\n",
    "* [ Employee compensation by activity](https://data.oecd.org/earnwage/employee-compensation-by-activity.htm#indicator-chart)\n",
    "* [# Employment rate](https://data.oecd.org/emp/employment-rate.htm)\n",
    "* [# Inégalité de revenu](https://data.oecd.org/fr/inequality/inegalite-de-revenu.htm)\n",
    "* [# Poverty rate](https://data.oecd.org/inequality/poverty-rate.htm)"
   ]
  },
  {
   "cell_type": "code",
   "execution_count": 24,
   "metadata": {},
   "outputs": [],
   "source": [
    "import pandas as pd\n",
    "import numpy as np"
   ]
  },
  {
   "cell_type": "code",
   "execution_count": 27,
   "metadata": {},
   "outputs": [],
   "source": [
    "avg_wg = pd.read_csv('average_wages.csv')\n",
    "hrs_wk = pd.read_csv('hours_worked.csv')\n",
    "hrs_pvty = pd.read_csv('workHours_exitPoverty.csv')\n",
    "GDPhrs_wk = pd.read_csv('GDPhoursWorked.csv')\n",
    "GDPcapContr = pd.read_csv('GDPCAPCONTR.csv')\n",
    "wg_actvy = pd.read_csv('COMPEMPLOYEEACTY.csv')\n",
    "income_ineq = pd.read_csv('INCOMEINEQ.csv')\n",
    "poverty = pd.read_csv('POVERTY.csv')\n",
    "emp_rate = pd.read_csv('EMP_rate.csv')"
   ]
  },
  {
   "cell_type": "code",
   "execution_count": 33,
   "metadata": {},
   "outputs": [
    {
     "data": {
      "text/html": [
       "<div>\n",
       "<style scoped>\n",
       "    .dataframe tbody tr th:only-of-type {\n",
       "        vertical-align: middle;\n",
       "    }\n",
       "\n",
       "    .dataframe tbody tr th {\n",
       "        vertical-align: top;\n",
       "    }\n",
       "\n",
       "    .dataframe thead th {\n",
       "        text-align: right;\n",
       "    }\n",
       "</style>\n",
       "<table border=\"1\" class=\"dataframe\">\n",
       "  <thead>\n",
       "    <tr style=\"text-align: right;\">\n",
       "      <th></th>\n",
       "      <th>LOCATION</th>\n",
       "      <th>INDICATOR</th>\n",
       "      <th>SUBJECT</th>\n",
       "      <th>MEASURE</th>\n",
       "      <th>FREQUENCY</th>\n",
       "      <th>TIME</th>\n",
       "      <th>Value</th>\n",
       "      <th>Flag Codes</th>\n",
       "    </tr>\n",
       "  </thead>\n",
       "  <tbody>\n",
       "    <tr>\n",
       "      <th>0</th>\n",
       "      <td>AUS</td>\n",
       "      <td>HRWKD</td>\n",
       "      <td>TOT</td>\n",
       "      <td>HR_WKD</td>\n",
       "      <td>A</td>\n",
       "      <td>1985</td>\n",
       "      <td>1876.0</td>\n",
       "      <td>NaN</td>\n",
       "    </tr>\n",
       "    <tr>\n",
       "      <th>1</th>\n",
       "      <td>AUS</td>\n",
       "      <td>HRWKD</td>\n",
       "      <td>TOT</td>\n",
       "      <td>HR_WKD</td>\n",
       "      <td>A</td>\n",
       "      <td>1986</td>\n",
       "      <td>1877.0</td>\n",
       "      <td>NaN</td>\n",
       "    </tr>\n",
       "    <tr>\n",
       "      <th>2</th>\n",
       "      <td>AUS</td>\n",
       "      <td>HRWKD</td>\n",
       "      <td>TOT</td>\n",
       "      <td>HR_WKD</td>\n",
       "      <td>A</td>\n",
       "      <td>1987</td>\n",
       "      <td>1889.0</td>\n",
       "      <td>NaN</td>\n",
       "    </tr>\n",
       "    <tr>\n",
       "      <th>3</th>\n",
       "      <td>AUS</td>\n",
       "      <td>HRWKD</td>\n",
       "      <td>TOT</td>\n",
       "      <td>HR_WKD</td>\n",
       "      <td>A</td>\n",
       "      <td>1988</td>\n",
       "      <td>1885.0</td>\n",
       "      <td>NaN</td>\n",
       "    </tr>\n",
       "    <tr>\n",
       "      <th>4</th>\n",
       "      <td>AUS</td>\n",
       "      <td>HRWKD</td>\n",
       "      <td>TOT</td>\n",
       "      <td>HR_WKD</td>\n",
       "      <td>A</td>\n",
       "      <td>1989</td>\n",
       "      <td>1875.0</td>\n",
       "      <td>NaN</td>\n",
       "    </tr>\n",
       "  </tbody>\n",
       "</table>\n",
       "</div>"
      ],
      "text/plain": [
       "  LOCATION INDICATOR SUBJECT MEASURE FREQUENCY  TIME   Value  Flag Codes\n",
       "0      AUS     HRWKD     TOT  HR_WKD         A  1985  1876.0         NaN\n",
       "1      AUS     HRWKD     TOT  HR_WKD         A  1986  1877.0         NaN\n",
       "2      AUS     HRWKD     TOT  HR_WKD         A  1987  1889.0         NaN\n",
       "3      AUS     HRWKD     TOT  HR_WKD         A  1988  1885.0         NaN\n",
       "4      AUS     HRWKD     TOT  HR_WKD         A  1989  1875.0         NaN"
      ]
     },
     "execution_count": 33,
     "metadata": {},
     "output_type": "execute_result"
    }
   ],
   "source": [
    "hrs_wk.head()"
   ]
  },
  {
   "cell_type": "code",
   "execution_count": 32,
   "metadata": {},
   "outputs": [
    {
     "data": {
      "text/plain": [
       "0       HRWKD\n",
       "1       HRWKD\n",
       "2       HRWKD\n",
       "3       HRWKD\n",
       "4       HRWKD\n",
       "        ...  \n",
       "1747    HRWKD\n",
       "1748    HRWKD\n",
       "1749    HRWKD\n",
       "1750    HRWKD\n",
       "1751    HRWKD\n",
       "Name: INDICATOR, Length: 1752, dtype: object"
      ]
     },
     "execution_count": 32,
     "metadata": {},
     "output_type": "execute_result"
    }
   ],
   "source": [
    "hrs_wk['INDICATOR']"
   ]
  },
  {
   "cell_type": "code",
   "execution_count": 30,
   "metadata": {},
   "outputs": [
    {
     "data": {
      "text/plain": [
       "array(['HRWKD'], dtype=object)"
      ]
     },
     "execution_count": 30,
     "metadata": {},
     "output_type": "execute_result"
    }
   ],
   "source": [
    "hrs_wk['INDICATOR'].unique()"
   ]
  },
  {
   "cell_type": "code",
   "execution_count": 5,
   "metadata": {},
   "outputs": [],
   "source": [
    "#liste des pays par dataset: si un pays est mentionné 3 fois dans la colonne 'LOCATION', ça le réunit en une seule fois\n",
    "countries_avg_wg = avg_wg['LOCATION'].unique()\n",
    "countries_hrs_wk = hrs_wk['LOCATION'].unique()\n",
    "countries_hrs_pvty = hrs_pvty['LOCATION'].unique()\n",
    "countries_GDPhrs_wk = GDPhrs_wk['LOCATION'].unique()\n",
    "countries_GDPcapContr = GDPcapContr['LOCATION'].unique()\n",
    "countries_income_ineq = income_ineq['LOCATION'].unique()\n",
    "countries_poverty = poverty['LOCATION'].unique()\n",
    "countries_emp_rate = emp_rate['LOCATION'].unique()\n",
    "\n",
    "#réunions de tous les pays de tous les datasets\n",
    "countries = np.concatenate((countries_avg_wg,countries_hrs_wk,countries_hrs_pvty,countries_GDPhrs_wk,countries_GDPcapContr,countries_income_ineq,countries_poverty,countries_emp_rate), axis=0)\n",
    "# [countries_avg_wg,countries_hrs_wk,countries_hrs_pvty,countries_GDPhrs_wk,countries_GDPcapContr,countries_income_ineq,countries_poverty,countries_emp_rate]"
   ]
  },
  {
   "cell_type": "code",
   "execution_count": 6,
   "metadata": {},
   "outputs": [
    {
     "name": "stdout",
     "output_type": "stream",
     "text": [
      "['AUS' 'AUT' 'BEL' 'BGR' 'BRA' 'CAN' 'CHE' 'CHL' 'CHN' 'COL' 'CRI' 'CYP'\n",
      " 'CZE' 'DEU' 'DNK' 'EA19' 'ESP' 'EST' 'EU27' 'EU27_2020' 'EU28' 'FIN'\n",
      " 'FRA' 'G-7' 'GBR' 'GRC' 'HRV' 'HUN' 'IDN' 'IND' 'IRL' 'ISL' 'ISR' 'ITA'\n",
      " 'JPN' 'KOR' 'LTU' 'LUX' 'LVA' 'MEX' 'MLT' 'NLD' 'NOR' 'NZL' 'OECD' 'POL'\n",
      " 'PRT' 'ROU' 'RUS' 'SVK' 'SVN' 'SWE' 'TUR' 'USA' 'ZAF']\n"
     ]
    }
   ],
   "source": [
    "#.unique() sur la liste des pays dans tous les datasets confondus\n",
    "countries\n",
    "print(np.unique(countries))"
   ]
  },
  {
   "cell_type": "code",
   "execution_count": 7,
   "metadata": {},
   "outputs": [
    {
     "name": "stdout",
     "output_type": "stream",
     "text": [
      "36\n",
      "46\n",
      "43\n",
      "48\n",
      "48\n",
      "44\n",
      "44\n",
      "46\n"
     ]
    }
   ],
   "source": [
    "#nombre de pays par dataset\n",
    "check_countries_nb = [countries_avg_wg,countries_hrs_wk,countries_hrs_pvty,countries_GDPhrs_wk,countries_GDPcapContr,countries_income_ineq,countries_poverty,countries_emp_rate]\n",
    "for element in check_countries_nb :\n",
    "    # print(element)\n",
    "    print(len(element))"
   ]
  },
  {
   "cell_type": "markdown",
   "metadata": {},
   "source": [
    "Oupsi, pas du tout les mêmes pays par dataset et pas le même nombre"
   ]
  },
  {
   "cell_type": "code",
   "execution_count": 8,
   "metadata": {},
   "outputs": [],
   "source": [
    "#print(np.unique(countries))"
   ]
  },
  {
   "cell_type": "markdown",
   "metadata": {},
   "source": [
    "### Quelles sont les valeurs utiles pour chaque dataset ?"
   ]
  },
  {
   "cell_type": "markdown",
   "metadata": {},
   "source": [
    "#### Attention à \n",
    "- Prendre l'année la plus avancée pour chaque donnée de chaque pays (1990,1991,1992...) -> **FAIT**\n",
    "- Vérifier que les années sont toutes comparables (après 2010 idéalement ?) -> **FAIT**\n",
    "- Vérifier que Subject est bien à \"TOT\" pour tous les dataset (population totale) -> **fait mais c'est pas le cas du coup. Vérifier ce que signifient les autres noms de codes pour la population**\n",
    "- Vérifier ce que ça veut dire \"flag codes\" ?\n",
    "- Renommer la colonne Value de chaque dataset par la donnée observée (par ex avg_wg pour average wages) sinon on va rien comprendre quand on va merge\n",
    "- merge les trucs : pd.merge(df1,df2,left_index=True ou False, right_on = 'nom_de_la_colonne')**\n",
    "- enlever le pays G7 !\n",
    "\n",
    "Pas mal de trucs à checker, je commence avec les datasets les plus importants d'après le sujet : **hours worked et GDP per hour.**"
   ]
  },
  {
   "cell_type": "code",
   "execution_count": 9,
   "metadata": {},
   "outputs": [
    {
     "name": "stdout",
     "output_type": "stream",
     "text": [
      "Date la plus récente pour Hours Worked et GDP per hour:  2020 ,  2020\n"
     ]
    }
   ],
   "source": [
    "#Je checke que toutes les dates vont bien jusqu'à nos jours : \n",
    "print('Date la plus récente pour Hours Worked et GDP per hour: ',  hrs_wk['TIME'].iloc[-1], ', ',  GDPhrs_wk['TIME'].iloc[-1])"
   ]
  },
  {
   "cell_type": "markdown",
   "metadata": {},
   "source": [
    "C'est bon pour les deux premiers datasets. Bon allez, je regarde pour les autres"
   ]
  },
  {
   "cell_type": "code",
   "execution_count": 10,
   "metadata": {},
   "outputs": [
    {
     "name": "stdout",
     "output_type": "stream",
     "text": [
      "Average wages 2020\n",
      "\n",
      "Hours poverty 2018\n",
      "\n",
      "GDP cap contr 2020\n",
      "\n",
      "Wages par activty 2020\n",
      "\n",
      "Income inequalities 2019\n",
      "\n",
      "Poverty rate 2019\n",
      "\n",
      "Emp rate 2021-12\n",
      "\n"
     ]
    }
   ],
   "source": [
    "print('Average wages', avg_wg['TIME'].iloc[-1])\n",
    "print('')\n",
    "print('Hours poverty', hrs_pvty['TIME'].iloc[-1])\n",
    "print('')\n",
    "print('GDP cap contr', GDPcapContr['TIME'].iloc[-1])\n",
    "print('')\n",
    "print('Wages par activty', wg_actvy['TIME'].iloc[-1])\n",
    "print('')\n",
    "print('Income inequalities', income_ineq['TIME'].iloc[-1])\n",
    "print('')\n",
    "print('Poverty rate', poverty['TIME'].iloc[-1])\n",
    "print('')\n",
    "print('Emp rate', emp_rate['TIME'].iloc[-1])\n",
    "print('')"
   ]
  },
  {
   "cell_type": "markdown",
   "metadata": {},
   "source": [
    "Go prendre 2018 puisque la date la plus ancienne est 2018, on peut pas aller plus loin si on veut prendre en compte les heures à travailler pour sortie de la pauvreté"
   ]
  },
  {
   "cell_type": "code",
   "execution_count": 11,
   "metadata": {},
   "outputs": [
    {
     "name": "stdout",
     "output_type": "stream",
     "text": [
      "Hours worked wages TOT\n",
      "\n",
      "GDP per hour TOT\n",
      "\n",
      "Hours poverty SNGL2CHLD\n",
      "\n",
      "GDP cap contr LPRDTY\n",
      "\n",
      "Wages par activty SERV\n",
      "\n",
      "Income inequalities P50P10\n",
      "\n",
      "Poverty rate 0_17\n",
      "\n",
      "Emp rate MEN\n"
     ]
    }
   ],
   "source": [
    "print('Hours worked wages', hrs_wk['SUBJECT'].iloc[0])\n",
    "print('')\n",
    "print('GDP per hour', GDPhrs_wk['SUBJECT'].iloc[0])\n",
    "print('')\n",
    "print('Hours poverty', hrs_pvty['SUBJECT'].iloc[0])\n",
    "print('')\n",
    "print('GDP cap contr', GDPcapContr['SUBJECT'].iloc[0])\n",
    "print('')\n",
    "print('Wages par activty', wg_actvy['SUBJECT'].iloc[0])\n",
    "print('')\n",
    "print('Income inequalities', income_ineq['SUBJECT'].iloc[0])\n",
    "print('')\n",
    "print('Poverty rate', poverty['SUBJECT'].iloc[0])\n",
    "print('')\n",
    "print('Emp rate', emp_rate['SUBJECT'].iloc[0])\n"
   ]
  },
  {
   "cell_type": "markdown",
   "metadata": {},
   "source": [
    "Oupsi. Faudrait voir ce que signifient SNGL2CHLD, LPRDTY, SERV, P50P10, 0_17 et MEN \n",
    "(bon, probablement MEN ça veut dire hommes ?)"
   ]
  },
  {
   "cell_type": "markdown",
   "metadata": {},
   "source": [
    "**Renommer les colonnes pour faciliter le merge**\n"
   ]
  },
  {
   "cell_type": "code",
   "execution_count": 34,
   "metadata": {},
   "outputs": [],
   "source": [
    "hrs_wk.rename(columns={'Value': 'hrs_wk'}, inplace=True)\n",
    "avg_wg.rename(columns={'Value': 'avg_wg'}, inplace=True)\n",
    "hrs_pvty.rename(columns={'Value': 'hrs_pvty'}, inplace=True)\n",
    "GDPhrs_wk.rename(columns={'Value': 'GDPhrs_wk'}, inplace=True)\n",
    "GDPcapContr.rename(columns={'Value': 'GDPcapContr'}, inplace=True)\n",
    "wg_actvy.rename(columns={'Value': 'wg_actvy'}, inplace=True)\n",
    "income_ineq.rename(columns={'Value': 'income_ineq'}, inplace=True)\n",
    "poverty.rename(columns={'Value': 'poverty'}, inplace=True)\n",
    "emp_rate.rename(columns={'Value': 'emp_rate'}, inplace=True)"
   ]
  },
  {
   "cell_type": "markdown",
   "metadata": {},
   "source": [
    "exemple: "
   ]
  },
  {
   "cell_type": "code",
   "execution_count": 35,
   "metadata": {},
   "outputs": [
    {
     "data": {
      "text/html": [
       "<div>\n",
       "<style scoped>\n",
       "    .dataframe tbody tr th:only-of-type {\n",
       "        vertical-align: middle;\n",
       "    }\n",
       "\n",
       "    .dataframe tbody tr th {\n",
       "        vertical-align: top;\n",
       "    }\n",
       "\n",
       "    .dataframe thead th {\n",
       "        text-align: right;\n",
       "    }\n",
       "</style>\n",
       "<table border=\"1\" class=\"dataframe\">\n",
       "  <thead>\n",
       "    <tr style=\"text-align: right;\">\n",
       "      <th></th>\n",
       "      <th>LOCATION</th>\n",
       "      <th>INDICATOR</th>\n",
       "      <th>SUBJECT</th>\n",
       "      <th>MEASURE</th>\n",
       "      <th>FREQUENCY</th>\n",
       "      <th>TIME</th>\n",
       "      <th>hrs_wk</th>\n",
       "      <th>Flag Codes</th>\n",
       "    </tr>\n",
       "  </thead>\n",
       "  <tbody>\n",
       "    <tr>\n",
       "      <th>0</th>\n",
       "      <td>AUS</td>\n",
       "      <td>HRWKD</td>\n",
       "      <td>TOT</td>\n",
       "      <td>HR_WKD</td>\n",
       "      <td>A</td>\n",
       "      <td>1985</td>\n",
       "      <td>1876.0</td>\n",
       "      <td>NaN</td>\n",
       "    </tr>\n",
       "  </tbody>\n",
       "</table>\n",
       "</div>"
      ],
      "text/plain": [
       "  LOCATION INDICATOR SUBJECT MEASURE FREQUENCY  TIME  hrs_wk  Flag Codes\n",
       "0      AUS     HRWKD     TOT  HR_WKD         A  1985  1876.0         NaN"
      ]
     },
     "execution_count": 35,
     "metadata": {},
     "output_type": "execute_result"
    }
   ],
   "source": [
    "hrs_wk.head(1)"
   ]
  },
  {
   "cell_type": "markdown",
   "metadata": {},
   "source": [
    "**Maintenant, réunir les datasets par pays: si une donnée n'est pas disponible pour l'un des pays, ne pas prendre le pays en compte (si le tri est trop strict on peut adapter après)**"
   ]
  },
  {
   "cell_type": "markdown",
   "metadata": {},
   "source": [
    "Premier test sur une année (**2018**) avec uniquement le pays et la valeur pour la variable étudiée. On va merge Hours worked et GDP per hour worked"
   ]
  },
  {
   "cell_type": "markdown",
   "metadata": {},
   "source": [
    "Encore un test: certaines lignes ont deux valeurs. Par exemple dans GDP per hour worked, pour l'Australie et l'année 2018, il y a deux lignes dans le dataset. L'une avec Measure = USD, l'autre avec Measure = IDX2015\n",
    "Voyez par vous-même"
   ]
  },
  {
   "cell_type": "code",
   "execution_count": 56,
   "metadata": {},
   "outputs": [],
   "source": [
    "salut = GDPhrs_wk[GDPhrs_wk['TIME'] == 2018]"
   ]
  },
  {
   "cell_type": "code",
   "execution_count": 57,
   "metadata": {},
   "outputs": [
    {
     "data": {
      "text/html": [
       "<div>\n",
       "<style scoped>\n",
       "    .dataframe tbody tr th:only-of-type {\n",
       "        vertical-align: middle;\n",
       "    }\n",
       "\n",
       "    .dataframe tbody tr th {\n",
       "        vertical-align: top;\n",
       "    }\n",
       "\n",
       "    .dataframe thead th {\n",
       "        text-align: right;\n",
       "    }\n",
       "</style>\n",
       "<table border=\"1\" class=\"dataframe\">\n",
       "  <thead>\n",
       "    <tr style=\"text-align: right;\">\n",
       "      <th></th>\n",
       "      <th>LOCATION</th>\n",
       "      <th>INDICATOR</th>\n",
       "      <th>SUBJECT</th>\n",
       "      <th>MEASURE</th>\n",
       "      <th>FREQUENCY</th>\n",
       "      <th>TIME</th>\n",
       "      <th>GDPhrs_wk</th>\n",
       "      <th>Flag Codes</th>\n",
       "    </tr>\n",
       "  </thead>\n",
       "  <tbody>\n",
       "    <tr>\n",
       "      <th>48</th>\n",
       "      <td>AUS</td>\n",
       "      <td>GDPHRWKD</td>\n",
       "      <td>TOT</td>\n",
       "      <td>USD</td>\n",
       "      <td>A</td>\n",
       "      <td>2018</td>\n",
       "      <td>54.536922</td>\n",
       "      <td>E</td>\n",
       "    </tr>\n",
       "    <tr>\n",
       "      <th>1882</th>\n",
       "      <td>AUS</td>\n",
       "      <td>GDPHRWKD</td>\n",
       "      <td>TOT</td>\n",
       "      <td>IDX2015</td>\n",
       "      <td>A</td>\n",
       "      <td>2018</td>\n",
       "      <td>100.795748</td>\n",
       "      <td>E</td>\n",
       "    </tr>\n",
       "  </tbody>\n",
       "</table>\n",
       "</div>"
      ],
      "text/plain": [
       "     LOCATION INDICATOR SUBJECT  MEASURE FREQUENCY  TIME   GDPhrs_wk  \\\n",
       "48        AUS  GDPHRWKD     TOT      USD         A  2018   54.536922   \n",
       "1882      AUS  GDPHRWKD     TOT  IDX2015         A  2018  100.795748   \n",
       "\n",
       "     Flag Codes  \n",
       "48            E  \n",
       "1882          E  "
      ]
     },
     "execution_count": 57,
     "metadata": {},
     "output_type": "execute_result"
    }
   ],
   "source": [
    "salut[salut['LOCATION'] == 'AUS'].head()"
   ]
  },
  {
   "cell_type": "markdown",
   "metadata": {},
   "source": [
    "Bon, essayons quand même de merge les deux et on va voir ce que ça donne."
   ]
  },
  {
   "cell_type": "code",
   "execution_count": 58,
   "metadata": {},
   "outputs": [
    {
     "data": {
      "text/html": [
       "<div>\n",
       "<style scoped>\n",
       "    .dataframe tbody tr th:only-of-type {\n",
       "        vertical-align: middle;\n",
       "    }\n",
       "\n",
       "    .dataframe tbody tr th {\n",
       "        vertical-align: top;\n",
       "    }\n",
       "\n",
       "    .dataframe thead th {\n",
       "        text-align: right;\n",
       "    }\n",
       "</style>\n",
       "<table border=\"1\" class=\"dataframe\">\n",
       "  <thead>\n",
       "    <tr style=\"text-align: right;\">\n",
       "      <th></th>\n",
       "      <th>LOCATION</th>\n",
       "      <th>hrs_wk</th>\n",
       "    </tr>\n",
       "  </thead>\n",
       "  <tbody>\n",
       "    <tr>\n",
       "      <th>33</th>\n",
       "      <td>AUS</td>\n",
       "      <td>1733.0</td>\n",
       "    </tr>\n",
       "    <tr>\n",
       "      <th>59</th>\n",
       "      <td>AUT</td>\n",
       "      <td>1502.0</td>\n",
       "    </tr>\n",
       "    <tr>\n",
       "      <th>110</th>\n",
       "      <td>BEL</td>\n",
       "      <td>1580.0</td>\n",
       "    </tr>\n",
       "    <tr>\n",
       "      <th>170</th>\n",
       "      <td>CAN</td>\n",
       "      <td>1708.0</td>\n",
       "    </tr>\n",
       "    <tr>\n",
       "      <th>198</th>\n",
       "      <td>CZE</td>\n",
       "      <td>1785.0</td>\n",
       "    </tr>\n",
       "  </tbody>\n",
       "</table>\n",
       "</div>"
      ],
      "text/plain": [
       "    LOCATION  hrs_wk\n",
       "33       AUS  1733.0\n",
       "59       AUT  1502.0\n",
       "110      BEL  1580.0\n",
       "170      CAN  1708.0\n",
       "198      CZE  1785.0"
      ]
     },
     "execution_count": 58,
     "metadata": {},
     "output_type": "execute_result"
    }
   ],
   "source": [
    "hrs_wk_merge_facile = hrs_wk[hrs_wk['TIME'] == 2018]\n",
    "hrs_wk_merge_facile = hrs_wk_merge_facile[['LOCATION', 'hrs_wk']]\n",
    "hrs_wk_merge_facile.head(5)"
   ]
  },
  {
   "cell_type": "code",
   "execution_count": 59,
   "metadata": {},
   "outputs": [
    {
     "data": {
      "text/html": [
       "<div>\n",
       "<style scoped>\n",
       "    .dataframe tbody tr th:only-of-type {\n",
       "        vertical-align: middle;\n",
       "    }\n",
       "\n",
       "    .dataframe tbody tr th {\n",
       "        vertical-align: top;\n",
       "    }\n",
       "\n",
       "    .dataframe thead th {\n",
       "        text-align: right;\n",
       "    }\n",
       "</style>\n",
       "<table border=\"1\" class=\"dataframe\">\n",
       "  <thead>\n",
       "    <tr style=\"text-align: right;\">\n",
       "      <th></th>\n",
       "      <th>LOCATION</th>\n",
       "      <th>GDPhrs_wk</th>\n",
       "    </tr>\n",
       "  </thead>\n",
       "  <tbody>\n",
       "    <tr>\n",
       "      <th>48</th>\n",
       "      <td>AUS</td>\n",
       "      <td>54.536922</td>\n",
       "    </tr>\n",
       "    <tr>\n",
       "      <th>74</th>\n",
       "      <td>AUT</td>\n",
       "      <td>68.360281</td>\n",
       "    </tr>\n",
       "    <tr>\n",
       "      <th>125</th>\n",
       "      <td>BEL</td>\n",
       "      <td>71.700122</td>\n",
       "    </tr>\n",
       "    <tr>\n",
       "      <th>176</th>\n",
       "      <td>CAN</td>\n",
       "      <td>52.212832</td>\n",
       "    </tr>\n",
       "    <tr>\n",
       "      <th>204</th>\n",
       "      <td>CZE</td>\n",
       "      <td>41.152718</td>\n",
       "    </tr>\n",
       "  </tbody>\n",
       "</table>\n",
       "</div>"
      ],
      "text/plain": [
       "    LOCATION  GDPhrs_wk\n",
       "48       AUS  54.536922\n",
       "74       AUT  68.360281\n",
       "125      BEL  71.700122\n",
       "176      CAN  52.212832\n",
       "204      CZE  41.152718"
      ]
     },
     "execution_count": 59,
     "metadata": {},
     "output_type": "execute_result"
    }
   ],
   "source": [
    "GDPhrs_wk_merge_facile = GDPhrs_wk[GDPhrs_wk['TIME'] == 2018]\n",
    "GDPhrs_wk_merge_facile = GDPhrs_wk_merge_facile[['LOCATION', 'GDPhrs_wk']]\n",
    "GDPhrs_wk_merge_facile.head(5)"
   ]
  },
  {
   "cell_type": "markdown",
   "metadata": {},
   "source": [
    "GO MERGE"
   ]
  },
  {
   "cell_type": "code",
   "execution_count": 60,
   "metadata": {},
   "outputs": [],
   "source": [
    "hrs_wk_MERGE_gdp_hrs = pd.merge(hrs_wk_merge_facile,GDPhrs_wk_merge_facile)"
   ]
  },
  {
   "cell_type": "code",
   "execution_count": 61,
   "metadata": {},
   "outputs": [
    {
     "data": {
      "text/html": [
       "<div>\n",
       "<style scoped>\n",
       "    .dataframe tbody tr th:only-of-type {\n",
       "        vertical-align: middle;\n",
       "    }\n",
       "\n",
       "    .dataframe tbody tr th {\n",
       "        vertical-align: top;\n",
       "    }\n",
       "\n",
       "    .dataframe thead th {\n",
       "        text-align: right;\n",
       "    }\n",
       "</style>\n",
       "<table border=\"1\" class=\"dataframe\">\n",
       "  <thead>\n",
       "    <tr style=\"text-align: right;\">\n",
       "      <th></th>\n",
       "      <th>LOCATION</th>\n",
       "      <th>hrs_wk</th>\n",
       "      <th>GDPhrs_wk</th>\n",
       "    </tr>\n",
       "  </thead>\n",
       "  <tbody>\n",
       "    <tr>\n",
       "      <th>0</th>\n",
       "      <td>AUS</td>\n",
       "      <td>1733.0</td>\n",
       "      <td>54.536922</td>\n",
       "    </tr>\n",
       "    <tr>\n",
       "      <th>1</th>\n",
       "      <td>AUS</td>\n",
       "      <td>1733.0</td>\n",
       "      <td>100.795748</td>\n",
       "    </tr>\n",
       "    <tr>\n",
       "      <th>2</th>\n",
       "      <td>AUT</td>\n",
       "      <td>1502.0</td>\n",
       "      <td>68.360281</td>\n",
       "    </tr>\n",
       "    <tr>\n",
       "      <th>3</th>\n",
       "      <td>AUT</td>\n",
       "      <td>1502.0</td>\n",
       "      <td>101.624302</td>\n",
       "    </tr>\n",
       "    <tr>\n",
       "      <th>4</th>\n",
       "      <td>BEL</td>\n",
       "      <td>1580.0</td>\n",
       "      <td>71.700122</td>\n",
       "    </tr>\n",
       "  </tbody>\n",
       "</table>\n",
       "</div>"
      ],
      "text/plain": [
       "  LOCATION  hrs_wk   GDPhrs_wk\n",
       "0      AUS  1733.0   54.536922\n",
       "1      AUS  1733.0  100.795748\n",
       "2      AUT  1502.0   68.360281\n",
       "3      AUT  1502.0  101.624302\n",
       "4      BEL  1580.0   71.700122"
      ]
     },
     "execution_count": 61,
     "metadata": {},
     "output_type": "execute_result"
    }
   ],
   "source": [
    "hrs_wk_MERGE_gdp_hrs.head()"
   ]
  },
  {
   "cell_type": "markdown",
   "metadata": {},
   "source": [
    "Effectivement y a un problème, y a deux ligne pour l'Australie (et peut-être d'autres pays). Aled"
   ]
  },
  {
   "cell_type": "code",
   "execution_count": null,
   "metadata": {},
   "outputs": [],
   "source": []
  }
 ],
 "metadata": {
  "interpreter": {
   "hash": "8ff1774c64d83fce3825259fa3771bbe70271854497325f5fa1e2c1b92279703"
  },
  "kernelspec": {
   "display_name": "Python 3",
   "language": "python",
   "name": "python3"
  },
  "language_info": {
   "codemirror_mode": {
    "name": "ipython",
    "version": 3
   },
   "file_extension": ".py",
   "mimetype": "text/x-python",
   "name": "python",
   "nbconvert_exporter": "python",
   "pygments_lexer": "ipython3",
   "version": "3.7.4"
  }
 },
 "nbformat": 4,
 "nbformat_minor": 4
}
